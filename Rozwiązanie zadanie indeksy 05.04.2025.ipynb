{
 "cells": [
  {
   "cell_type": "code",
   "execution_count": null,
   "id": "d6927663",
   "metadata": {},
   "outputs": [
    {
     "name": "stdout",
     "output_type": "stream",
     "text": [
      "Podaj liczbę dokumentów: 2\n",
      "Wprowadź kolejne dokumenty:\n",
      "a\n"
     ]
    }
   ],
   "source": [
    "def index_documents(documents: list[str], queries: list[str]) -> list[list[int]]:\n",
    "    \"\"\"\n",
    "    Przetwarza dokumenty i zapytania, zwracając listy indeksów dokumentów,\n",
    "    w których występuje zapytanie, posortowane według częstości wystąpienia\n",
    "    danego wyrazu (malejąco), a w przypadku równych częstości - malejąco wg numeru dokumentu.\n",
    "\n",
    "    Args:\n",
    "        documents (list[str]): Lista dokumentów (każdy dokument to ciąg znaków).\n",
    "        queries (list[str]): Lista zapytań (każdy zapytanie to pojedynczy wyraz).\n",
    "\n",
    "    Returns:\n",
    "        list[list[int]]: Lista wyników dla kolejnych zapytań.\n",
    "    \"\"\"\n",
    "    results = []\n",
    "\n",
    "    for q in queries:\n",
    "        docs = []\n",
    "\n",
    "        for i, doc in enumerate(documents):\n",
    "            words = doc.split()\n",
    "            count = words.count(q)\n",
    "            if count > 0:\n",
    "                docs.append((i, count))\n",
    "        \n",
    "        docs.sort(key=lambda x: (-x[1], -x[0]))\n",
    "\n",
    "        sorted = [i for i, _ in docs]\n",
    "        results.append(sorted)\n",
    "\n",
    "    return results\n",
    "\n",
    "# Przykładowe wywołanie:\n",
    "if __name__ == \"__main__\":\n",
    "    # Pobranie liczby dokumentów\n",
    "    n = int(input(\"Podaj liczbę dokumentów: \"))\n",
    "    documents = []\n",
    "    print(\"Wprowadź kolejne dokumenty:\")\n",
    "    for _ in range(n):\n",
    "        documents.append(input())\n",
    "\n",
    "    # Pobranie liczby zapytań\n",
    "    m = int(input(\"Podaj liczbę zapytań: \"))\n",
    "    queries = []\n",
    "    print(\"Wprowadź kolejne zapytania:\")\n",
    "    for _ in range(m):\n",
    "        queries.append(input().strip())\n",
    "\n",
    "    # Przetworzenie zapytań\n",
    "    results = index_documents(documents, queries)\n",
    "\n",
    "    # Wypisanie wyników\n",
    "    print(\"Wyniki:\")\n",
    "    for res in results:\n",
    "        print(res)"
   ]
  },
  {
   "cell_type": "code",
   "execution_count": null,
   "id": "575285f2",
   "metadata": {},
   "outputs": [],
   "source": []
  }
 ],
 "metadata": {
  "kernelspec": {
   "display_name": "Python 3 (ipykernel)",
   "language": "python",
   "name": "python3"
  },
  "language_info": {
   "codemirror_mode": {
    "name": "ipython",
    "version": 3
   },
   "file_extension": ".py",
   "mimetype": "text/x-python",
   "name": "python",
   "nbconvert_exporter": "python",
   "pygments_lexer": "ipython3",
   "version": "3.11.0"
  }
 },
 "nbformat": 4,
 "nbformat_minor": 5
}
