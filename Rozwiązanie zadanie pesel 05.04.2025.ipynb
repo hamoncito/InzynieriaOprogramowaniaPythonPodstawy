{
 "cells": [
  {
   "cell_type": "code",
   "execution_count": 50,
   "id": "450d89f6",
   "metadata": {},
   "outputs": [],
   "source": [
    "# do sumy iloczynów\n",
    "import numpy as np"
   ]
  },
  {
   "cell_type": "code",
   "execution_count": 57,
   "id": "506b3e9f",
   "metadata": {},
   "outputs": [],
   "source": [
    "def verify_pesel(pesel) -> int:\n",
    "    \"\"\"\n",
    "    Weryfikuje numer PESEL.\n",
    "\n",
    "    Args:\n",
    "        pesel (str): Numer PESEL w postaci ciągu 11 znaków.\n",
    "\n",
    "    Returns:\n",
    "        int: 1 jeśli numer jest poprawny, 0 jeśli nie.\n",
    "    \"\"\"\n",
    "    # wagi\n",
    "    weights = [1, 3, 7, 9, 1, 3, 7, 9, 1, 3, 1]\n",
    "    \n",
    "    # konwersja na int\n",
    "    \n",
    "    pesel = [int(x) for x in str(pesel)]\n",
    "    \n",
    "    if len(pesel) != 11:\n",
    "        return 0\n",
    "    \n",
    "    w = np.array(weights)\n",
    "    p = np.array(pesel)\n",
    "\n",
    "    # suma iloczynów\n",
    "    sumProduct = sum(pesel * w)\n",
    "      \n",
    "    digitList = [int(digit) for digit in str(sumProduct)]\n",
    "    \n",
    "    if digitList[-1] == 0:\n",
    "        return 1\n",
    "    else: return 0"
   ]
  },
  {
   "cell_type": "code",
   "execution_count": 58,
   "id": "15839cb8",
   "metadata": {},
   "outputs": [
    {
     "name": "stdout",
     "output_type": "stream",
     "text": [
      "0\n",
      "1\n"
     ]
    }
   ],
   "source": [
    "# Przykładowe wywołanie:\n",
    "if __name__ == \"__main__\":\n",
    "    pesel_input = \"97082123152\"\n",
    "    print(verify_pesel(pesel_input))  # Oczekiwane wyjście: 0\n",
    "    \n",
    "    pesel_input = \"52051773822\"\n",
    "    print(verify_pesel(pesel_input))  # Oczekiwane wyjście: 1"
   ]
  },
  {
   "cell_type": "code",
   "execution_count": null,
   "id": "27143210",
   "metadata": {},
   "outputs": [],
   "source": []
  }
 ],
 "metadata": {
  "kernelspec": {
   "display_name": "Python 3 (ipykernel)",
   "language": "python",
   "name": "python3"
  },
  "language_info": {
   "codemirror_mode": {
    "name": "ipython",
    "version": 3
   },
   "file_extension": ".py",
   "mimetype": "text/x-python",
   "name": "python",
   "nbconvert_exporter": "python",
   "pygments_lexer": "ipython3",
   "version": "3.11.0"
  }
 },
 "nbformat": 4,
 "nbformat_minor": 5
}
