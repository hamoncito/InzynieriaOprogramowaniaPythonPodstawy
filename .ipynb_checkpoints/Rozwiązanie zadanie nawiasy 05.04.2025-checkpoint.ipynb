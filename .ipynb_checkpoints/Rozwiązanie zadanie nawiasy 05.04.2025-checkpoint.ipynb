{
 "cells": [
  {
   "cell_type": "code",
   "execution_count": 22,
   "id": "d6927663",
   "metadata": {},
   "outputs": [],
   "source": [
    "def check_parentheses(s: str) -> bool:\n",
    "    \"\"\"\n",
    "    Sprawdza, czy w ciągu znaków 's' nawiasy okrągłe są poprawnie sparowane.\n",
    "\n",
    "    Args:\n",
    "        s (str): Ciąg znaków do analizy.\n",
    "\n",
    "    Returns:\n",
    "        bool: True jeśli nawiasy są poprawne, False w przeciwnym wypadku.\n",
    "    \"\"\"\n",
    "    parentheses = []\n",
    "    \n",
    "    for char in s:\n",
    "        if char == '(':\n",
    "            parentheses.append(char)\n",
    "        elif char == ')':\n",
    "            if not parentheses:\n",
    "                return False  \n",
    "            parentheses.pop()\n",
    "\n",
    "    return len(parentheses) == 0"
   ]
  },
  {
   "cell_type": "code",
   "execution_count": 23,
   "id": "962f12d4",
   "metadata": {},
   "outputs": [
    {
     "name": "stdout",
     "output_type": "stream",
     "text": [
      "( if ( zero ? x ) max (/ 1 x )) -> True\n",
      "I told ( that its not ( yet ) done ). (42) -> True\n",
      ":-) -> False\n",
      "Czesc (o kurcze, chyba niechcacy zamkne ten nawias dwa razy)) -> False\n",
      "())(( -> False\n"
     ]
    }
   ],
   "source": [
    "# Przykładowe wywołanie:\n",
    "if __name__ == \"__main__\":\n",
    "    examples = [\n",
    "        \"( if ( zero ? x ) max (/ 1 x ))\",\n",
    "        \"I told ( that its not ( yet ) done ). (42)\",\n",
    "        \":-)\",\n",
    "        \"Czesc (o kurcze, chyba niechcacy zamkne ten nawias dwa razy))\",\n",
    "        \"())((\"\n",
    "    ]\n",
    "    for example in examples:\n",
    "        print(f\"{example} -> {check_parentheses(example)}\")"
   ]
  },
  {
   "cell_type": "code",
   "execution_count": null,
   "id": "0436c7b7",
   "metadata": {},
   "outputs": [],
   "source": []
  }
 ],
 "metadata": {
  "kernelspec": {
   "display_name": "Python 3 (ipykernel)",
   "language": "python",
   "name": "python3"
  },
  "language_info": {
   "codemirror_mode": {
    "name": "ipython",
    "version": 3
   },
   "file_extension": ".py",
   "mimetype": "text/x-python",
   "name": "python",
   "nbconvert_exporter": "python",
   "pygments_lexer": "ipython3",
   "version": "3.11.0"
  }
 },
 "nbformat": 4,
 "nbformat_minor": 5
}
