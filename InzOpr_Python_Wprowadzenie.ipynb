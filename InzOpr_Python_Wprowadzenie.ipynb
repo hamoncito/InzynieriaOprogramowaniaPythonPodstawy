{
 "cells": [
  {
   "cell_type": "markdown",
   "metadata": {},
   "source": [
    "# Python - wprowadzenie\n",
    "\n",
    "Inżynieria Oprogramowania 2025\n",
    "\n",
    "(na podstawie materiałów dr Piotra Kałużnego)"
   ]
  },
  {
   "cell_type": "markdown",
   "metadata": {},
   "source": [
    "## Typy danych"
   ]
  },
  {
   "cell_type": "markdown",
   "metadata": {},
   "source": [
    "### Numeryczne"
   ]
  },
  {
   "cell_type": "code",
   "execution_count": null,
   "metadata": {},
   "outputs": [],
   "source": [
    "a = 10\n",
    "b = 3.14\n",
    "\n",
    "print(f\"Typ a: {type(a)}\")\n",
    "print(f\"Typ b: {type(b)}\")"
   ]
  },
  {
   "cell_type": "markdown",
   "metadata": {},
   "source": [
    "### Tekstowy"
   ]
  },
  {
   "cell_type": "code",
   "execution_count": null,
   "metadata": {},
   "outputs": [],
   "source": [
    "c = \"Zajęcia z Inżynierii Oprogramowania\"\n",
    "\n",
    "print(f\"Typ c: {type(c)}\")"
   ]
  },
  {
   "cell_type": "markdown",
   "metadata": {},
   "source": [
    "### Logiczny"
   ]
  },
  {
   "cell_type": "code",
   "execution_count": null,
   "metadata": {},
   "outputs": [],
   "source": [
    "d = True\n",
    "\n",
    "print(f\"Typ d: {type(d)}\")"
   ]
  },
  {
   "cell_type": "markdown",
   "metadata": {},
   "source": [
    "### Kolekcje"
   ]
  },
  {
   "cell_type": "code",
   "execution_count": null,
   "metadata": {},
   "outputs": [],
   "source": [
    "# Lista (zmienna)\n",
    "numbers = [1, 2, 3, 4]\n",
    "print(f\"Typ numbers: {type(numbers)}\")\n",
    "\n",
    "# Krotka (niemodyfikowalna lista)\n",
    "coordinates = (10.0, 20.0)\n",
    "print(f\"Typ coordinates: {type(coordinates)}\")\n",
    "\n",
    "# Zbiór (unikalne wartości)\n",
    "unique_numbers = {1, 2, 2, 3}\n",
    "print(f\"Typ unique_numbers: {type(unique_numbers)}\")\n",
    "\n",
    "# Słownik (klucz-wartość)\n",
    "person = {\"name\": \"Alice\", \"age\": 30}\n",
    "print(f\"Typ person: {type(person)}\")"
   ]
  },
  {
   "cell_type": "markdown",
   "metadata": {
    "id": "QWN3KpS1LLaJ"
   },
   "source": [
    "## Operatory warunkowe\n",
    "Operatory warunkowe (==, !=, <, >, <=, >=) służą do porównywania wartości. Są niezbędne przy podejmowaniu decyzji w kodzie – umożliwiają np. wykonanie określonej logiki tylko, gdy spełniony jest warunek."
   ]
  },
  {
   "cell_type": "code",
   "execution_count": null,
   "metadata": {
    "colab": {
     "base_uri": "https://localhost:8080/"
    },
    "id": "oWpFl2AJ2lZV",
    "outputId": "ae62b6cd-5aa6-42e0-a42c-d8abe7c00bef"
   },
   "outputs": [],
   "source": [
    "a = 10\n",
    "b = a\n",
    "print (a,b, a==b)"
   ]
  },
  {
   "cell_type": "code",
   "execution_count": null,
   "metadata": {
    "colab": {
     "base_uri": "https://localhost:8080/"
    },
    "id": "NXbd_wkcLLaM",
    "outputId": "58cc5ec8-fb2a-4c84-d2f5-e4cb6d45001b"
   },
   "outputs": [],
   "source": [
    "-10 == -10"
   ]
  },
  {
   "cell_type": "code",
   "execution_count": null,
   "metadata": {
    "colab": {
     "base_uri": "https://localhost:8080/"
    },
    "id": "yWxZwmJzLLaO",
    "outputId": "09861203-e588-4546-d72a-c72fa8e9d1ea"
   },
   "outputs": [],
   "source": [
    "-10 is -10"
   ]
  },
  {
   "cell_type": "markdown",
   "metadata": {
    "id": "Q4x2HK1mLLaP"
   },
   "source": [
    "### Różnica między \"is\" a \"==\"\n",
    "\n",
    "- \"==\" porównuje wartości dwóch obiektów\n",
    "- \"is\" sprawdza czy obie zmienne wskazują ten sam obiekt w pamięci\n",
    "\n",
    "Bezpieczniej jest stosować \"==\", gdyż \"is\" może zwracać nieoczekiwane wyniki."
   ]
  },
  {
   "cell_type": "code",
   "execution_count": null,
   "metadata": {
    "colab": {
     "base_uri": "https://localhost:8080/"
    },
    "id": "s1mqRsd7LLaP",
    "outputId": "87a1aa57-3273-46db-f0b4-d3ccccdce1a1"
   },
   "outputs": [],
   "source": [
    "1 == 1"
   ]
  },
  {
   "cell_type": "code",
   "execution_count": null,
   "metadata": {
    "colab": {
     "base_uri": "https://localhost:8080/"
    },
    "id": "YpPYXpzhLLaQ",
    "outputId": "29ed9b9b-6396-4cf8-be0c-1ffe91dd37e4"
   },
   "outputs": [],
   "source": [
    "1 is 1"
   ]
  },
  {
   "cell_type": "code",
   "execution_count": null,
   "metadata": {
    "colab": {
     "base_uri": "https://localhost:8080/"
    },
    "id": "7bq2Qit9LLaR",
    "outputId": "9a062f22-6938-4374-8d65-6e3115752300"
   },
   "outputs": [],
   "source": [
    "a = 1\n",
    "b = 1\n",
    "a is b"
   ]
  },
  {
   "cell_type": "markdown",
   "metadata": {
    "id": "F1mF-MaxLLaS"
   },
   "source": [
    "Dlaczego otrzymaliśmy True?\n"
   ]
  },
  {
   "cell_type": "code",
   "execution_count": null,
   "metadata": {
    "colab": {
     "base_uri": "https://localhost:8080/"
    },
    "id": "QMv0E8JXLLaS",
    "outputId": "8b36f420-b2c4-403a-a216-043799c2ff53"
   },
   "outputs": [],
   "source": [
    "# sprawdzamy adres obiektu w pamięci\n",
    "id(1)"
   ]
  },
  {
   "cell_type": "code",
   "execution_count": null,
   "metadata": {
    "colab": {
     "base_uri": "https://localhost:8080/"
    },
    "id": "lK0EXMpNLLaT",
    "outputId": "2071a15b-bba4-4428-abb5-56513e418759"
   },
   "outputs": [],
   "source": [
    "id(a)"
   ]
  },
  {
   "cell_type": "code",
   "execution_count": null,
   "metadata": {
    "colab": {
     "base_uri": "https://localhost:8080/"
    },
    "id": "2DZCMk7eLLaT",
    "outputId": "c273b4cc-2442-4a09-f055-2a473309e3eb"
   },
   "outputs": [],
   "source": [
    "id(b)"
   ]
  },
  {
   "cell_type": "markdown",
   "metadata": {
    "id": "lq8s-i9VLLaU"
   },
   "source": [
    "W niektórych przypadkach obiekty z tą samą wartością posiadają ten sam adres w pamięci. Przykładowo, liczby od -5 do 256 są internowane (wydzielone) w CPython. Każdy numer z tego przedziału przechowywany jest w jednym, stałym miejscu w pamięci.\n",
    "Pozwala to oszczędzić pamięć dla najczęściej używanych liczb.\n",
    "Inne przykłady wartości internowanych:\n",
    "- None\n",
    "- True, False\n",
    "- proste ciągi znaków"
   ]
  },
  {
   "cell_type": "code",
   "execution_count": null,
   "metadata": {
    "colab": {
     "base_uri": "https://localhost:8080/"
    },
    "id": "f-aqzOC0LLaU",
    "outputId": "d1bcf110-9eaf-470b-a042-0c4e1a21425c"
   },
   "outputs": [],
   "source": [
    "a = None\n",
    "b = None\n",
    "a is b"
   ]
  },
  {
   "cell_type": "code",
   "execution_count": null,
   "metadata": {
    "colab": {
     "base_uri": "https://localhost:8080/"
    },
    "id": "D64C2ZutLLaV",
    "outputId": "920dccb6-061a-4b4b-b4a0-7ea904ac3a95"
   },
   "outputs": [],
   "source": [
    "a = False\n",
    "b = False\n",
    "a is b"
   ]
  },
  {
   "cell_type": "markdown",
   "metadata": {
    "id": "q23Ku5IPLLaV"
   },
   "source": [
    "- operator \"is\" wobec ciągów znaków"
   ]
  },
  {
   "cell_type": "code",
   "execution_count": null,
   "metadata": {
    "colab": {
     "base_uri": "https://localhost:8080/"
    },
    "id": "h4g-OtuQLLaV",
    "outputId": "3a308cad-2169-4336-a023-73cf6999ceb3"
   },
   "outputs": [],
   "source": [
    "a = 'xyz'\n",
    "b = 'xyz'\n",
    "a is b"
   ]
  },
  {
   "cell_type": "code",
   "execution_count": null,
   "metadata": {
    "colab": {
     "base_uri": "https://localhost:8080/"
    },
    "id": "aczleNShLLaW",
    "outputId": "996ee1c8-27f1-4ce5-9b67-ab191ba88ca9"
   },
   "outputs": [],
   "source": [
    "a = 'W kolejnych latach chińskie zapotrzebowanie na energię będzie stale rosło.'\n",
    "b = 'W kolejnych latach chińskie zapotrzebowanie na energię będzie stale rosło.'\n",
    "a == b"
   ]
  },
  {
   "cell_type": "markdown",
   "metadata": {
    "id": "OvNFp1N4LLaW"
   },
   "source": [
    " W większości przypadków wartości nie są internowane w pamięci. Oznacza to, że nawet zmienne o tej samej wartości zwykle przechowywane są pod innym adresem w pamięci.\n",
    "\n",
    "Operatora \"is\" nie należy używać do porównywania wartości.\n",
    "Poniższe zmienne są sobie równe, ale nie wskazują tych samych obiektów."
   ]
  },
  {
   "cell_type": "code",
   "execution_count": null,
   "metadata": {
    "id": "ssmxWMg63Ziz"
   },
   "outputs": [],
   "source": [
    "a =[1,2,3]\n",
    "b=a"
   ]
  },
  {
   "cell_type": "code",
   "execution_count": null,
   "metadata": {
    "colab": {
     "base_uri": "https://localhost:8080/"
    },
    "id": "N1tp6FWe3dTG",
    "outputId": "0861eae0-17f2-40bc-ff93-8fa9e6eeb27e"
   },
   "outputs": [],
   "source": [
    "b[2] = 8"
   ]
  },
  {
   "cell_type": "code",
   "execution_count": null,
   "metadata": {
    "colab": {
     "base_uri": "https://localhost:8080/"
    },
    "id": "fJ1Anw4i3hpx",
    "outputId": "4465e4e5-5a57-43bf-e18f-e1e5ea5355ba"
   },
   "outputs": [],
   "source": [
    "a"
   ]
  },
  {
   "cell_type": "code",
   "execution_count": null,
   "metadata": {
    "id": "fScB0fyDLLaW"
   },
   "outputs": [],
   "source": [
    "import copy\n",
    "a = [1, 2, 3]\n",
    "b = a.copy()"
   ]
  },
  {
   "cell_type": "code",
   "execution_count": null,
   "metadata": {
    "colab": {
     "base_uri": "https://localhost:8080/"
    },
    "id": "Xq5wasVhLLaX",
    "outputId": "e804cf12-8d46-4629-b0b4-64a2ab671fba"
   },
   "outputs": [],
   "source": [
    "a is b"
   ]
  },
  {
   "cell_type": "code",
   "execution_count": null,
   "metadata": {
    "colab": {
     "base_uri": "https://localhost:8080/"
    },
    "id": "Fid0vzHOLLaX",
    "outputId": "065d64ba-7cfd-4baa-cee0-8329c103f759"
   },
   "outputs": [],
   "source": [
    "a == b"
   ]
  },
  {
   "cell_type": "markdown",
   "metadata": {
    "id": "lPEPwDY_LLaX"
   },
   "source": [
    "- więcej: https://realpython.com/python-is-identity-vs-equality/"
   ]
  },
  {
   "cell_type": "markdown",
   "metadata": {
    "id": "WepnJJZMLLaX"
   },
   "source": [
    "## Matematyczne opertory warunkowe"
   ]
  },
  {
   "cell_type": "code",
   "execution_count": null,
   "metadata": {
    "colab": {
     "base_uri": "https://localhost:8080/"
    },
    "id": "P-MH8e7wLLaY",
    "outputId": "7789c89e-eb31-4507-ddda-16de3884e4cd"
   },
   "outputs": [],
   "source": [
    "# czy obiekty są nierówne?\n",
    "a != b"
   ]
  },
  {
   "cell_type": "code",
   "execution_count": null,
   "metadata": {
    "colab": {
     "base_uri": "https://localhost:8080/"
    },
    "id": "Sxg7hNIYLLaY",
    "outputId": "7a29795a-e024-47bd-e3fa-6612121fb03c"
   },
   "outputs": [],
   "source": [
    "10 > 1, 1 >= 1"
   ]
  },
  {
   "cell_type": "code",
   "execution_count": null,
   "metadata": {
    "colab": {
     "base_uri": "https://localhost:8080/"
    },
    "id": "2ztEuFjnLLaY",
    "outputId": "370121f9-862b-40da-bdca-82accd5acbc0"
   },
   "outputs": [],
   "source": [
    "10 < 1, 10 <= 1"
   ]
  },
  {
   "cell_type": "code",
   "execution_count": null,
   "metadata": {
    "colab": {
     "base_uri": "https://localhost:8080/"
    },
    "id": "4gJ1D1NJ333o",
    "outputId": "bf33d063-5907-4d7d-b1dc-21390845e7b3"
   },
   "outputs": [],
   "source": [
    "10 >= 10"
   ]
  },
  {
   "cell_type": "markdown",
   "metadata": {
    "id": "dd78qfcpLLaY"
   },
   "source": [
    "## Operator _in_"
   ]
  },
  {
   "cell_type": "markdown",
   "metadata": {
    "id": "U8hrDCZsLLaY"
   },
   "source": [
    "- ciągi znaków"
   ]
  },
  {
   "cell_type": "code",
   "execution_count": null,
   "metadata": {
    "colab": {
     "base_uri": "https://localhost:8080/"
    },
    "id": "augNIs07LLaY",
    "outputId": "221bac72-0db0-48ca-9570-03fcd0b28fca"
   },
   "outputs": [],
   "source": [
    "'n' in 'Klon'"
   ]
  },
  {
   "cell_type": "code",
   "execution_count": null,
   "metadata": {
    "colab": {
     "base_uri": "https://localhost:8080/"
    },
    "id": "d09iTyLiLLaZ",
    "outputId": "19102cee-ae23-4b39-cfbe-7eca45fdd13b"
   },
   "outputs": [],
   "source": [
    "'k' in 'Klon'"
   ]
  },
  {
   "cell_type": "code",
   "execution_count": null,
   "metadata": {
    "colab": {
     "base_uri": "https://localhost:8080/"
    },
    "id": "5l2jD4a5LLaZ",
    "outputId": "0a0bdbd3-15ea-4b3f-f7fe-90ef64a3b1d3"
   },
   "outputs": [],
   "source": [
    "'k' in 'Klon'.lower()"
   ]
  },
  {
   "cell_type": "code",
   "execution_count": null,
   "metadata": {
    "colab": {
     "base_uri": "https://localhost:8080/"
    },
    "id": "-zdVumHiLLaZ",
    "outputId": "5a1787d7-4f95-4a23-9486-fee38c9b5d73"
   },
   "outputs": [],
   "source": [
    "# w przypadku ciągu znaków sprawdzane są wszystki permutacje\n",
    "'on' in 'Klon'"
   ]
  },
  {
   "cell_type": "code",
   "execution_count": null,
   "metadata": {
    "colab": {
     "base_uri": "https://localhost:8080/"
    },
    "id": "Zquh-lJoLLaZ",
    "outputId": "d369e2f4-6151-47b7-9795-66ffea850a9a"
   },
   "outputs": [],
   "source": [
    "'kon' in 'Klon'"
   ]
  },
  {
   "cell_type": "code",
   "execution_count": null,
   "metadata": {
    "colab": {
     "base_uri": "https://localhost:8080/"
    },
    "id": "Clt-3-Pc4HLV",
    "outputId": "4c31e01c-b7d9-4149-d84d-c4aec22e4574"
   },
   "outputs": [],
   "source": [
    "a = 'W kolejnych latach chińskie zapotrzebowanie na energię będzie stale rosło.'\n",
    "\" zapotrzebowanie na energię\" in a"
   ]
  },
  {
   "cell_type": "markdown",
   "metadata": {
    "id": "Smuku8bSLLaZ"
   },
   "source": [
    "- typy złożone"
   ]
  },
  {
   "cell_type": "code",
   "execution_count": null,
   "metadata": {
    "colab": {
     "base_uri": "https://localhost:8080/"
    },
    "id": "L3FaSr0eLLaZ",
    "outputId": "541233ee-917b-48eb-90ae-a14f6931dede"
   },
   "outputs": [],
   "source": [
    "'n' in {'k', 'l', 'o', 'n'}"
   ]
  },
  {
   "cell_type": "code",
   "execution_count": null,
   "metadata": {
    "colab": {
     "base_uri": "https://localhost:8080/"
    },
    "id": "BNZlYYaSLLaZ",
    "outputId": "8185c66f-5170-4c84-8a05-12afbc572b6d"
   },
   "outputs": [],
   "source": [
    "'o' in {'k', 'l', 'o', 'n'}"
   ]
  },
  {
   "cell_type": "code",
   "execution_count": null,
   "metadata": {
    "colab": {
     "base_uri": "https://localhost:8080/"
    },
    "id": "FFuf2ZdHLLaa",
    "outputId": "53d82c19-5269-44e9-8a0f-cebedd97b995"
   },
   "outputs": [],
   "source": [
    "'n' in ['k', 'l', 'o', 'n']"
   ]
  },
  {
   "cell_type": "code",
   "execution_count": null,
   "metadata": {
    "colab": {
     "base_uri": "https://localhost:8080/"
    },
    "id": "BEAKa5GdLLaa",
    "outputId": "a04e8ad6-b0e8-48ba-cc99-3155b688fe0e"
   },
   "outputs": [],
   "source": [
    "'x' not in ('k', 'l', 'o', 'n')"
   ]
  },
  {
   "cell_type": "markdown",
   "metadata": {
    "id": "Ewj7_nsOLLaa"
   },
   "source": [
    "## Operatory logiczne"
   ]
  },
  {
   "cell_type": "markdown",
   "metadata": {
    "id": "sGlgKSELLLaa"
   },
   "source": [
    "- lub (alternatywa)"
   ]
  },
  {
   "cell_type": "code",
   "execution_count": null,
   "metadata": {
    "colab": {
     "base_uri": "https://localhost:8080/"
    },
    "id": "cvRsWnseLLaa",
    "outputId": "512320cd-6455-4b43-c969-c8f2e5da8c4b"
   },
   "outputs": [],
   "source": [
    "# operator logiczny\n",
    "10 > 1 or 10 < 1"
   ]
  },
  {
   "cell_type": "code",
   "execution_count": null,
   "metadata": {
    "colab": {
     "base_uri": "https://localhost:8080/"
    },
    "id": "Eb1lriXPLLab",
    "outputId": "b9a69a79-c730-4f2b-d421-ddbbeee1b83b"
   },
   "outputs": [],
   "source": [
    "# operator bitowy\n",
    "10 > 1 | 10 < 1"
   ]
  },
  {
   "cell_type": "code",
   "execution_count": null,
   "metadata": {
    "colab": {
     "base_uri": "https://localhost:8080/"
    },
    "id": "_xwYt6ZALLab",
    "outputId": "c1fbaf3c-d547-4c51-8bba-4e1b30a55ed3"
   },
   "outputs": [],
   "source": [
    "# operator bitowy (bitwise operator)\n",
    "(10 > 1) | (10 < 1)"
   ]
  },
  {
   "cell_type": "markdown",
   "metadata": {
    "id": "8CnVCo3bLLab"
   },
   "source": [
    "- i (koniunkcja)"
   ]
  },
  {
   "cell_type": "code",
   "execution_count": null,
   "metadata": {
    "colab": {
     "base_uri": "https://localhost:8080/"
    },
    "id": "d4rA9WlBLLab",
    "outputId": "01b0cd63-70ee-46e1-efd1-5fa9f4cc5072"
   },
   "outputs": [],
   "source": [
    "# operator logiczny\n",
    "10 > 1 and 10 < 1"
   ]
  },
  {
   "cell_type": "code",
   "execution_count": null,
   "metadata": {
    "id": "1ARovUxZLLab"
   },
   "outputs": [],
   "source": [
    "# operator bitowy\n",
    "10 > 1 & 10 < 1"
   ]
  },
  {
   "cell_type": "code",
   "execution_count": null,
   "metadata": {
    "id": "Kyc2-FfsLLab"
   },
   "outputs": [],
   "source": [
    "(10 > 1) & (10 < 1)"
   ]
  },
  {
   "cell_type": "markdown",
   "metadata": {
    "id": "Z_FT_7T1LLac"
   },
   "source": [
    "- nie (zaprzeczenie)"
   ]
  },
  {
   "cell_type": "code",
   "execution_count": null,
   "metadata": {
    "colab": {
     "base_uri": "https://localhost:8080/"
    },
    "id": "EVWQyGdqLLac",
    "outputId": "d83e6772-5da6-40df-8165-ffc2ba5bfd02"
   },
   "outputs": [],
   "source": [
    "not True"
   ]
  },
  {
   "cell_type": "code",
   "execution_count": null,
   "metadata": {
    "colab": {
     "base_uri": "https://localhost:8080/"
    },
    "id": "DwfbLLta4iKB",
    "outputId": "8bfb0088-7f11-47a6-c8a1-1c3d1b2b1305"
   },
   "outputs": [],
   "source": [
    "\"o\" not in  \"klon\""
   ]
  },
  {
   "cell_type": "markdown",
   "metadata": {
    "id": "-EDiYMUfLLac"
   },
   "source": [
    "### Operacje logiczne na wartościach niebinarnych\n",
    "(innych niż True i False)"
   ]
  },
  {
   "cell_type": "markdown",
   "metadata": {
    "id": "0tVtAGWULLac"
   },
   "source": [
    "Uznawane za fałsz:\n",
    "- Boolean o wartości False\n",
    "- Jakakolwiek wartość będąca zerem (0, 0.0, 0.0+0j)\n",
    "- pusty łańcuch \"\"\n",
    "- puste złożone typy wbudowane: lista, krotka, słownik, zbiór\n",
    "- słowo kluczowe None\n",
    "\n",
    "Każdy inny obiekt uznawany jest za prawdę (True)."
   ]
  },
  {
   "cell_type": "code",
   "execution_count": null,
   "metadata": {
    "colab": {
     "base_uri": "https://localhost:8080/"
    },
    "id": "KDwZjhIC40A0",
    "outputId": "c3b92559-15f0-4208-e5ed-f0ff8ede6cc6"
   },
   "outputs": [],
   "source": [
    "0 == False"
   ]
  },
  {
   "cell_type": "markdown",
   "metadata": {
    "id": "ctiPYzVxLLac"
   },
   "source": [
    "#### Liczby i łańcuchy znaków"
   ]
  },
  {
   "cell_type": "code",
   "execution_count": null,
   "metadata": {
    "colab": {
     "base_uri": "https://localhost:8080/"
    },
    "id": "NLK3OuRiLLac",
    "outputId": "cb931986-2b97-43df-ba4d-0b6a354f7500"
   },
   "outputs": [],
   "source": [
    "print(bool(0.0+0))\n",
    "print(bool(1))\n",
    "print(bool(\"\"))\n",
    "print(bool(\"abc\"))"
   ]
  },
  {
   "cell_type": "markdown",
   "metadata": {
    "id": "KJ2DblgULLad"
   },
   "source": [
    "#### Złożone typy wbudowane"
   ]
  },
  {
   "cell_type": "code",
   "execution_count": null,
   "metadata": {
    "colab": {
     "base_uri": "https://localhost:8080/"
    },
    "id": "C1j84yw4LLad",
    "outputId": "0f040c96-19e6-4337-90cc-c25b871ea6c9"
   },
   "outputs": [],
   "source": [
    "print(bool([]),      bool([0, 1, 2]))\n",
    "print(bool({}),      bool({0, 1, 2}))\n",
    "print(bool(dict()),  bool({'a': 1}))\n",
    "print(bool(tuple()), bool((0, 1, 2)))"
   ]
  },
  {
   "cell_type": "markdown",
   "metadata": {
    "id": "hfgKSnHWLLad"
   },
   "source": [
    "- na powyższych można także używać operatorów or, and i not"
   ]
  },
  {
   "cell_type": "markdown",
   "metadata": {
    "id": "_XZQnX7rLLad"
   },
   "source": [
    "## Wbudowane metody dla ciągów znaków"
   ]
  },
  {
   "cell_type": "code",
   "execution_count": null,
   "metadata": {
    "colab": {
     "base_uri": "https://localhost:8080/"
    },
    "id": "XYTJzAG0LLad",
    "outputId": "8a66ee25-7d8b-4c7d-9ef2-4166bcddc9f2"
   },
   "outputs": [],
   "source": [
    "a = '1'\n",
    "a.isnumeric()"
   ]
  },
  {
   "cell_type": "code",
   "execution_count": null,
   "metadata": {
    "colab": {
     "base_uri": "https://localhost:8080/"
    },
    "id": "YD9wITVGLLad",
    "outputId": "c02b9450-37b5-48aa-d7a3-194bfaba540a"
   },
   "outputs": [],
   "source": [
    "a = 'Ala ma kota'\n",
    "a.isalnum()"
   ]
  },
  {
   "cell_type": "markdown",
   "metadata": {
    "id": "AhNS5J2TLLae"
   },
   "source": [
    "## Łańcuchy porównań"
   ]
  },
  {
   "cell_type": "code",
   "execution_count": null,
   "metadata": {
    "id": "8xDm2ewcLLae"
   },
   "outputs": [],
   "source": [
    "x = 1\n",
    "y = 2\n",
    "z = 3"
   ]
  },
  {
   "cell_type": "markdown",
   "metadata": {
    "id": "-AzNC8OJLLae"
   },
   "source": [
    "Poniższe wyrażenia są równoważne"
   ]
  },
  {
   "cell_type": "code",
   "execution_count": null,
   "metadata": {
    "colab": {
     "base_uri": "https://localhost:8080/"
    },
    "id": "S3NLONNMLLae",
    "outputId": "c5ceb95a-6731-4169-bec8-e0164aa97aa7"
   },
   "outputs": [],
   "source": [
    "x < y and y <= z"
   ]
  },
  {
   "cell_type": "code",
   "execution_count": null,
   "metadata": {
    "colab": {
     "base_uri": "https://localhost:8080/"
    },
    "id": "PAyaTYUjLLae",
    "outputId": "4bd64e5e-88bf-4623-f46b-8280081fe02c",
    "scrolled": true
   },
   "outputs": [],
   "source": [
    "x < y <= z"
   ]
  },
  {
   "cell_type": "markdown",
   "metadata": {
    "id": "c1kaVwXvLLae"
   },
   "source": [
    "## Kolejność wykonywania operatorów\n",
    "Dobrą praktyką jest stosowanie nawiasów.\n",
    "- ułatwiają czytanie kodu\n",
    "- nie wymaga zapamiętywania kolejności wykonywania operatorów"
   ]
  },
  {
   "cell_type": "code",
   "execution_count": null,
   "metadata": {
    "id": "YDBfFUlHLLae"
   },
   "outputs": [],
   "source": [
    "a = 5\n",
    "b = 40"
   ]
  },
  {
   "cell_type": "code",
   "execution_count": null,
   "metadata": {
    "id": "PMD_aiiXLLaf"
   },
   "outputs": [],
   "source": [
    "(a < 10) and (b > 30)"
   ]
  },
  {
   "cell_type": "code",
   "execution_count": null,
   "metadata": {
    "id": "F0wd575cLLaf"
   },
   "outputs": [],
   "source": [
    "a < 10 and b > 30"
   ]
  },
  {
   "cell_type": "markdown",
   "metadata": {
    "id": "Xl1W0sAOLLaf"
   },
   "source": [
    "- więcej: https://realpython.com/python-operators-expressions/#logical-operators"
   ]
  },
  {
   "cell_type": "markdown",
   "metadata": {
    "id": "132-zs9DJ_qR"
   },
   "source": [
    "## Wyrażenie _if_"
   ]
  },
  {
   "cell_type": "raw",
   "metadata": {
    "id": "mO0WWZkTJ_qS"
   },
   "source": [
    "if <expr>:\n",
    "    <statement>"
   ]
  },
  {
   "cell_type": "markdown",
   "metadata": {
    "id": "J1KzGWVzJ_qT"
   },
   "source": [
    "- expr - warunek dający w wyniku True lub False\n",
    "- statement - wyrażenie warunkowe wykonywane gdy expr jest prawdziwe"
   ]
  },
  {
   "cell_type": "code",
   "execution_count": null,
   "metadata": {
    "id": "UG5n6bF3J_qU"
   },
   "outputs": [],
   "source": [
    "a = 0\n",
    "b = 1"
   ]
  },
  {
   "cell_type": "code",
   "execution_count": null,
   "metadata": {
    "colab": {
     "base_uri": "https://localhost:8080/"
    },
    "id": "2QHpR8QRJ_qU",
    "outputId": "61a3d0e7-1f26-481f-e506-195142a271a8"
   },
   "outputs": [],
   "source": [
    "# Prawda\n",
    "if a < b:\n",
    "    print('a is smaller than b')"
   ]
  },
  {
   "cell_type": "code",
   "execution_count": null,
   "metadata": {
    "id": "nUaI4Jy2J_qU"
   },
   "outputs": [],
   "source": [
    "# Prawda\n",
    "if b:\n",
    "    print('variable b does not equal 0')"
   ]
  },
  {
   "cell_type": "code",
   "execution_count": null,
   "metadata": {
    "id": "ofj5-V2yJ_qV"
   },
   "outputs": [],
   "source": [
    "# Fałsz\n",
    "if a > b:\n",
    "    print(\"a is bigger than b\")"
   ]
  },
  {
   "cell_type": "markdown",
   "metadata": {
    "id": "Dn6moGoWJ_qW"
   },
   "source": [
    "## Wcięcia i bloki\n",
    "blok - spójna część kodu.\n",
    "Kiedy warunek _expr_ w wyrażeniu _If_ to _Prawda_, wówczas wykonują się wszystkie instrukcje w _statement_. Nazywamy je blokiem."
   ]
  },
  {
   "cell_type": "code",
   "execution_count": null,
   "metadata": {
    "colab": {
     "base_uri": "https://localhost:8080/"
    },
    "id": "EHn6PfaeJ_qW",
    "outputId": "5925d6f1-f31e-4110-e3f8-4ef7165c5f6f"
   },
   "outputs": [],
   "source": [
    "for element in ['sklep', 'siłownia', 'bank']:\n",
    "    print(\"Condition is true\")\n",
    "    print(\"Another statement within the same block\")\n",
    "    print(\"...\")\n",
    "    print(\"Done\")\n",
    "print(\"Statement executed after evaluation of conditional expression\")"
   ]
  },
  {
   "cell_type": "markdown",
   "metadata": {
    "id": "yTtSXDvvJ_qX"
   },
   "source": [
    "## Klauzule _else_ oraz _elif_\n",
    "- _else_ - wykonywane zawsze gdy poprzedni warunek nie jest spełniony\n",
    "- _elif_ - wykonywane sprawdzanie kolejnego warunku gdy poprzedni warunek nie jest spełniony"
   ]
  },
  {
   "cell_type": "code",
   "execution_count": null,
   "metadata": {
    "colab": {
     "base_uri": "https://localhost:8080/"
    },
    "id": "DVBTKR60J_qX",
    "outputId": "bdc78c41-c6be-408f-b860-db9c3cc1c79b"
   },
   "outputs": [],
   "source": [
    "x = 20\n",
    "\n",
    "if x < 10:\n",
    "    print('First block')\n",
    "    print('x is smaller than 10')\n",
    "else:\n",
    "    print('Second block')\n",
    "    print('x is larger than 10')"
   ]
  },
  {
   "cell_type": "code",
   "execution_count": null,
   "metadata": {
    "id": "m6oEfskVJ_qX"
   },
   "outputs": [],
   "source": [
    "x = 20\n",
    "\n",
    "if x < 10:\n",
    "    print('First block')\n",
    "    print('x is smaller than 10')\n",
    "elif x < 50:\n",
    "    print('Second block')\n",
    "    print('x is larger than 10 and smaller than 50')"
   ]
  },
  {
   "cell_type": "code",
   "execution_count": null,
   "metadata": {
    "id": "oFMgh-4AJ_qY"
   },
   "outputs": [],
   "source": [
    "x = 100\n",
    "\n",
    "if x < 10:\n",
    "    print('First block')\n",
    "    print('x is smaller than 10')\n",
    "elif x < 50:\n",
    "    print('Second block')\n",
    "    print('x is larger than 10 and smaller than 50')\n",
    "else:\n",
    "    print('Third block')\n",
    "    print('x is larger than 50')"
   ]
  },
  {
   "cell_type": "markdown",
   "metadata": {
    "id": "HgjfmrUGJ_qY"
   },
   "source": [
    "- _elif_ - można stosować dowolną liczbę razy\n",
    "- _else_ - można zastosować tylko raz"
   ]
  },
  {
   "cell_type": "code",
   "execution_count": null,
   "metadata": {
    "id": "4Xbe2TXBJ_qY"
   },
   "outputs": [],
   "source": [
    "x = 100\n",
    "\n",
    "if x < 10:\n",
    "    print('First block')\n",
    "    print('x is smaller than 10')\n",
    "elif x < 50:\n",
    "    print('Second block')\n",
    "    print('x is larger than 10 and smaller than 50')\n",
    "elif x >= 100:\n",
    "    print('Third block')\n",
    "    print('x is larger than or equal to 100')\n",
    "else:\n",
    "    print('Fourth block')\n",
    "    print('x is between 50 and 99')"
   ]
  },
  {
   "cell_type": "markdown",
   "metadata": {
    "id": "0XaEMyunJ_qZ"
   },
   "source": [
    "### Wyrażenie _pass_\n",
    "- pozwala tymczasowo zastosować pusty blok kodu"
   ]
  },
  {
   "cell_type": "code",
   "execution_count": null,
   "metadata": {
    "id": "J-5cF5FKJ_qZ"
   },
   "outputs": [],
   "source": [
    "c = 15\n",
    "\n",
    "if c < 10:\n",
    "  print (c)\n",
    "else:\n",
    "    pass"
   ]
  },
  {
   "cell_type": "markdown",
   "metadata": {
    "id": "qb6pGrfsJ_qZ"
   },
   "source": [
    "- więcej: https://realpython.com/python-conditional-statements/"
   ]
  },
  {
   "cell_type": "markdown",
   "metadata": {
    "id": "x5zsDK5DuRxF"
   },
   "source": [
    "# Kolekcje"
   ]
  },
  {
   "cell_type": "markdown",
   "metadata": {
    "id": "b6OBjE_puV8J"
   },
   "source": [
    "## Lista"
   ]
  },
  {
   "cell_type": "markdown",
   "metadata": {
    "id": "lCMR6jYWuXZi"
   },
   "source": [
    "### Podstawowe operacje\n",
    "\n",
    "Listy to uporządkowane kolekcje elementów. Zobaczmy podstawowe operacje, które mogą nam się przydać."
   ]
  },
  {
   "cell_type": "code",
   "execution_count": null,
   "metadata": {
    "colab": {
     "base_uri": "https://localhost:8080/"
    },
    "id": "Hh7XK4WRugKZ",
    "outputId": "dc64b89e-39f2-47d0-8464-da4d8e760bd0"
   },
   "outputs": [],
   "source": [
    "# listę możemy zainicjalizować od razu dodając elementy w nawiasach kwadratowych\n",
    "oceny = [3,4,6,3,3,2]\n",
    "print('lista tuż po utworzeniu:', oceny)\n",
    "# możemy też do listy dodawać kolejne elementy\n",
    "oceny.append(4)\n",
    "print('lista po dodaniu elementu:', oceny)"
   ]
  },
  {
   "cell_type": "code",
   "execution_count": null,
   "metadata": {
    "colab": {
     "base_uri": "https://localhost:8080/"
    },
    "id": "EYbxb-mWvkuO",
    "outputId": "c981b008-1ba2-4c7a-f109-1da75f1cd886"
   },
   "outputs": [],
   "source": [
    "# mogę pobierać poszczególne elementy z listy:\n",
    "print(oceny[0])\n",
    "print(oceny[2])\n",
    "# mogę też pobierać zakresy\n",
    "print(oceny[0:3])\n",
    "print(oceny[0:-1]) # do przedostatniego elemetnu"
   ]
  },
  {
   "cell_type": "code",
   "execution_count": null,
   "metadata": {
    "colab": {
     "base_uri": "https://localhost:8080/"
    },
    "id": "RFp-ZU4Y67jK",
    "outputId": "80d86d82-bd37-44af-8a82-fed1ddc8cf20"
   },
   "outputs": [],
   "source": [
    "oceny[-1]"
   ]
  },
  {
   "cell_type": "code",
   "execution_count": null,
   "metadata": {
    "colab": {
     "base_uri": "https://localhost:8080/"
    },
    "id": "TtupWLayxD7a",
    "outputId": "071c0aae-b73c-4de7-da1f-7b89a11339d8"
   },
   "outputs": [],
   "source": [
    "# w liście mogą siedzieć najróżniejsze elementy jednocześnie\n",
    "poprawna_lista = [1,2,'kaponiera', 2.99, 12 ** 56, 'Chojnice', ['wewnętrzna lista', 'kto by się spodziewał']]\n",
    "print(poprawna_lista[4])\n",
    "\n",
    "wewn_lista = poprawna_lista[6]\n",
    "\n",
    "print(poprawna_lista[6][0])\n",
    "print(wewn_lista[0])"
   ]
  },
  {
   "cell_type": "code",
   "execution_count": null,
   "metadata": {
    "colab": {
     "base_uri": "https://localhost:8080/"
    },
    "id": "4CEj7Txexde3",
    "outputId": "6ef08740-6a3b-451f-b579-2ddb1ad44309"
   },
   "outputs": [],
   "source": [
    "# często przydaje się też znajomość długości listy\n",
    "# print(len(poprawna_lista))\n",
    "# print(len(poprawna_lista[6]))\n",
    "print('Dlaczego wynikiem tutaj jest 2? -->', len([[1,2,3,4,5,623,345,2345,234,45,43,567,4234,5234,345,6734],\n",
    "                                                        [243,2345,2345,2345,123,423,35,346,7456,7546,345,234,55,46754,68745]]\n",
    "                                                       ))"
   ]
  },
  {
   "cell_type": "code",
   "execution_count": null,
   "metadata": {
    "colab": {
     "base_uri": "https://localhost:8080/"
    },
    "id": "WGbanhuvuxVw",
    "outputId": "b2e4ff5e-0469-4b0b-d29c-4e6962e56b0d"
   },
   "outputs": [],
   "source": [
    "oceny = [3,4,6,3,3,2,4]\n",
    "# istnieją różne sposoby usuwania elementów z listy. Na przykład, pop usuwa ostatni element z listy i go zwraca w rezultacie\n",
    "print('Lista najpierw:', oceny)\n",
    "print('Pobieram i usuwam ostatni element', oceny.pop()) # to zwraca ostatni element - wartość 2\n",
    "print('Lista na koniec:', oceny) # tu będzie lista bez tego ostatniego elementu"
   ]
  },
  {
   "cell_type": "code",
   "execution_count": null,
   "metadata": {
    "colab": {
     "base_uri": "https://localhost:8080/"
    },
    "id": "-EdSJT7ZvM4S",
    "outputId": "4e7e8d5e-ceb7-4550-b9f0-eb9a454b3e31"
   },
   "outputs": [],
   "source": [
    "# wygodnym sposobem na edycję listy jest też korzystanie z jej przycinania. Często, jeśli chcę usunąc ostatni element, robię to w ten sposób:\n",
    "oceny_2 = [2,2,3,4]\n",
    "oceny_2 = oceny_2[:-1] # jeśli pominę wartość przed symbolem : w przycinaniu, domyślnie będzie tam 0\n",
    "print(oceny_2)"
   ]
  },
  {
   "cell_type": "code",
   "execution_count": null,
   "metadata": {
    "id": "bFNVKSsv8CXV"
   },
   "outputs": [],
   "source": [
    "#### Sprawdzanie co jest w liście"
   ]
  },
  {
   "cell_type": "code",
   "execution_count": null,
   "metadata": {
    "colab": {
     "base_uri": "https://localhost:8080/"
    },
    "id": "yhX-dY9RuH2D",
    "outputId": "9a70b067-64ad-4e0e-8efd-baf0d2cabe8b"
   },
   "outputs": [],
   "source": [
    "# mogę też sprawdzac czy coś jest w liście\n",
    "print('czkawka' in ['czkawka', 'muzyka', 'kredki'])\n",
    "print('suchar' in ['czkawka', 'muzyka', 'kredki'])"
   ]
  },
  {
   "cell_type": "code",
   "execution_count": null,
   "metadata": {
    "colab": {
     "base_uri": "https://localhost:8080/"
    },
    "id": "C7z9QIL3wC-C",
    "outputId": "5b37944d-567d-4a5f-f6df-5fe6587b9265"
   },
   "outputs": [],
   "source": [
    "# łatwo też mogę zobaczyć na której pozycji coś w liście się znajduje\n",
    "print('Muzyka jest pod indeksem', ['czkawka', 'muzyka', 'kredki'].index('muzyka'))\n",
    "# mogę też policzyć liczbę wystąpień danego elementu w liście\n",
    "print('Ile razy w liście wystąpiła baba jaga?', ['czkawka', 'muzyka', 'kredki'].count('baba jaga'))"
   ]
  },
  {
   "cell_type": "code",
   "execution_count": null,
   "metadata": {
    "colab": {
     "base_uri": "https://localhost:8080/"
    },
    "id": "SmHZSLANvnUL",
    "outputId": "5188abc6-cfdf-42c4-dda4-824d42467781"
   },
   "outputs": [],
   "source": [
    "print('Muzyka jest pod indeksem', ['czkawka', 'muzyka', 'kredki', 'muzyka'].index('muzyka'))\n"
   ]
  },
  {
   "cell_type": "markdown",
   "metadata": {
    "id": "O36_XH-Px3eq"
   },
   "source": [
    "### Iterowanie po liście\n",
    "\n",
    "Iterowanie po liście w pythonie jest bajecznie łatwe:"
   ]
  },
  {
   "cell_type": "code",
   "execution_count": null,
   "metadata": {
    "colab": {
     "base_uri": "https://localhost:8080/"
    },
    "id": "Raf_yeQQwojh",
    "outputId": "9479d4b4-79df-441d-a0c0-3958f815fb3d"
   },
   "outputs": [],
   "source": [
    "# zwróć uwagę na działanie funkcji split\n",
    "words = \"ala ma dwa koty a kot ma dwie ale\".split()\n",
    "print(words)"
   ]
  },
  {
   "cell_type": "code",
   "execution_count": null,
   "metadata": {
    "colab": {
     "base_uri": "https://localhost:8080/"
    },
    "id": "Ub5hfhPc8rkI",
    "outputId": "e5bbe6bf-3e6f-46b8-a96e-3256b6897bad"
   },
   "outputs": [],
   "source": [
    "for word in words:\n",
    "  print(word)"
   ]
  },
  {
   "cell_type": "markdown",
   "metadata": {
    "id": "fnqeGJhVZ629"
   },
   "source": [
    "Uwaga! Często osoby które uczyły się wcześniej np. javy próbują iterować w ten sposób:"
   ]
  },
  {
   "cell_type": "code",
   "execution_count": null,
   "metadata": {
    "id": "2htAWeq8Z2w5"
   },
   "outputs": [],
   "source": [
    "### TAK NIE RÓB:\n",
    "for i in range(len(words)):\n",
    "  print(words[i])"
   ]
  },
  {
   "cell_type": "markdown",
   "metadata": {
    "id": "k7l8Aw8laDd4"
   },
   "source": [
    "Co prawda daje to dobry wynik, ale jest niepotrzebnie brzydkie i trudniej się to czyta. Lepiej iterować tym sposobem powyżej."
   ]
  },
  {
   "cell_type": "markdown",
   "metadata": {
    "id": "ZwnslfkwcQww"
   },
   "source": [
    "### Funkcja enumerate\n",
    "Funkcja enumerate pozwala nam łatwo śledzić, na którym elemencie danej listy akurat jesteśmy."
   ]
  },
  {
   "cell_type": "code",
   "execution_count": null,
   "metadata": {
    "colab": {
     "base_uri": "https://localhost:8080/"
    },
    "id": "bt57FGmQcB3M",
    "outputId": "d37e3127-7638-4e4f-cb25-c171061546e7"
   },
   "outputs": [],
   "source": [
    "print(list(enumerate(['a', 'chmury', 'dmuchawiec'])))"
   ]
  },
  {
   "cell_type": "code",
   "execution_count": null,
   "metadata": {
    "colab": {
     "base_uri": "https://localhost:8080/"
    },
    "id": "UkK0LcFC62PU",
    "outputId": "91f84820-2662-40cb-b105-73c8284cd596"
   },
   "outputs": [],
   "source": [
    "# Jeżeli naprawdę potrzebujesz i\n",
    "i=\"żaba\"\n",
    "\n",
    "for i, word in enumerate(words):\n",
    "  if i <5:\n",
    "    print(word)\n",
    "  #super ciezka logika"
   ]
  },
  {
   "cell_type": "code",
   "execution_count": null,
   "metadata": {
    "colab": {
     "base_uri": "https://localhost:8080/"
    },
    "id": "GxeLNmqjyOL0",
    "outputId": "529059d5-d59a-46bc-bd24-1279960f7ab0"
   },
   "outputs": [],
   "source": [
    "i"
   ]
  },
  {
   "cell_type": "code",
   "execution_count": null,
   "metadata": {
    "id": "uSKEKysCyXq1"
   },
   "outputs": [],
   "source": [
    "words = \"Ala ma kota\"\n",
    "new_word_list = words"
   ]
  },
  {
   "cell_type": "code",
   "execution_count": null,
   "metadata": {
    "id": "xrPVSvS2ye5f"
   },
   "outputs": [],
   "source": [
    "new_word_list = new_word_list+\" czary mary\""
   ]
  },
  {
   "cell_type": "code",
   "execution_count": null,
   "metadata": {
    "colab": {
     "base_uri": "https://localhost:8080/",
     "height": 35
    },
    "id": "4tEMrZtUymNL",
    "outputId": "17a15426-4b85-4fa0-c842-2cc1909f0aef"
   },
   "outputs": [],
   "source": [
    "words"
   ]
  },
  {
   "cell_type": "markdown",
   "metadata": {
    "id": "Db3Wbh51cL9M"
   },
   "source": [
    "Dostajemy więc listę krotek (który element, wartość elementu).\n",
    "Przydaje się to często w pętli:"
   ]
  },
  {
   "cell_type": "code",
   "execution_count": null,
   "metadata": {
    "colab": {
     "base_uri": "https://localhost:8080/"
    },
    "id": "cNIlO9iXdyWw",
    "outputId": "3b6ba1a0-eb11-4b96-df1d-132fd523425e"
   },
   "outputs": [],
   "source": [
    "lista_pyszności = ['czkawka', 'herbatniki', 'łosoś w puszce']\n",
    "for el_cnt, el in enumerate(lista_pyszności):\n",
    "  print(el_cnt, el)"
   ]
  },
  {
   "cell_type": "markdown",
   "metadata": {
    "id": "9me67WEPKAow"
   },
   "source": [
    "range() generuje zakres liczb **z wyłączeniem** podanej górnej granicy\n",
    "\n",
    "Możemy też ustawić krok, czyli określić co którą wartość chcemy zwrócić."
   ]
  },
  {
   "cell_type": "code",
   "execution_count": null,
   "metadata": {
    "colab": {
     "base_uri": "https://localhost:8080/"
    },
    "id": "YjeQWFOF4CyW",
    "outputId": "4e90723d-4cf5-4dbf-e9ae-3a821d013ed4"
   },
   "outputs": [],
   "source": [
    "#listy składane\n",
    "for i in range(5):\n",
    "  print (i)"
   ]
  },
  {
   "cell_type": "code",
   "execution_count": null,
   "metadata": {
    "colab": {
     "base_uri": "https://localhost:8080/"
    },
    "id": "Wtv4iqLGKAow",
    "outputId": "ff1a868a-09f0-45df-a377-5473f260a081"
   },
   "outputs": [],
   "source": [
    "# zwracanie co piątej wartości\n",
    "for i in range(0, 100, 5):\n",
    "    print(i)"
   ]
  },
  {
   "cell_type": "markdown",
   "metadata": {
    "id": "Gh3VRbpdKckj"
   },
   "source": [
    "## Iteracja i Pętle"
   ]
  },
  {
   "cell_type": "markdown",
   "metadata": {
    "id": "zwxEyZGEK2JN"
   },
   "source": [
    "### Iterowanie stringów"
   ]
  },
  {
   "cell_type": "code",
   "execution_count": null,
   "metadata": {
    "colab": {
     "base_uri": "https://localhost:8080/"
    },
    "id": "uqY9eCRLK1E9",
    "outputId": "2da1a746-926e-44cf-ff05-249cc749af8f"
   },
   "outputs": [],
   "source": [
    "for el in \"Antananarywa\":\n",
    "  print (el)"
   ]
  },
  {
   "cell_type": "markdown",
   "metadata": {
    "id": "9Qp7IFeQKAow"
   },
   "source": [
    "### pętle zagnieżdżone"
   ]
  },
  {
   "cell_type": "code",
   "execution_count": null,
   "metadata": {
    "colab": {
     "base_uri": "https://localhost:8080/"
    },
    "id": "eV632k9BKAow",
    "outputId": "de5bebb0-bb71-47ee-fde0-6703064fd938"
   },
   "outputs": [],
   "source": [
    "for i in range(1, 5):\n",
    "    for j in range(1, 5):\n",
    "        print(\"{0} times {1} is {2}\".format(i, j, i*j))\n",
    "    print('------')"
   ]
  },
  {
   "cell_type": "markdown",
   "metadata": {
    "id": "qhdGAD9AKAow"
   },
   "source": [
    "### połączenie pętli _for_ z klauzulą _if_"
   ]
  },
  {
   "cell_type": "code",
   "execution_count": null,
   "metadata": {
    "id": "BaLOyFxyKAow"
   },
   "outputs": [],
   "source": [
    "movie = 'Apollo 13'\n",
    "for char in movie:\n",
    "    if char.isnumeric():\n",
    "        print(char)"
   ]
  },
  {
   "cell_type": "markdown",
   "metadata": {
    "id": "4e9bxjOzKAox"
   },
   "source": [
    "### klauzula else w pętli for\n",
    "- **else** - wykona się gdy wykonane zostaną wszystkie iteracje pętli"
   ]
  },
  {
   "cell_type": "code",
   "execution_count": null,
   "metadata": {
    "colab": {
     "base_uri": "https://localhost:8080/"
    },
    "id": "kjoxj03uKAox",
    "outputId": "05070476-5465-45c5-b011-932c0cf8e72a"
   },
   "outputs": [],
   "source": [
    "movie = 'Apollo 13'\n",
    "for char in movie:\n",
    "    if char.isnumeric():\n",
    "        print(char)\n",
    "    else:\n",
    "        print(\"is not numeric\")\n",
    "else:\n",
    "    print('finished!')"
   ]
  },
  {
   "cell_type": "markdown",
   "metadata": {
    "id": "PsFqySkEKAox"
   },
   "source": [
    "### przerywanie pętli"
   ]
  },
  {
   "cell_type": "code",
   "execution_count": null,
   "metadata": {
    "id": "yD2kVtJtKAox"
   },
   "outputs": [],
   "source": [
    "names_dict = {'Betty': 'Female',\n",
    "              'Lucy': 'Female',\n",
    "              'Tom': 'Male',\n",
    "              'Ann': 'Female',\n",
    "              'James': 'Male'}"
   ]
  },
  {
   "cell_type": "code",
   "execution_count": null,
   "metadata": {
    "id": "yVIxUaUZKAox"
   },
   "outputs": [],
   "source": [
    "# printujemy tylko damskie imiona\n",
    "for name, gender in names_dict.items():\n",
    "    if gender == 'Female':\n",
    "        print(name)"
   ]
  },
  {
   "cell_type": "markdown",
   "metadata": {
    "id": "32NrewxVKAoy"
   },
   "source": [
    "- **continue** - przerywa blok kodu by przejść do kolejnej iteracji"
   ]
  },
  {
   "cell_type": "code",
   "execution_count": null,
   "metadata": {
    "id": "PCPqestzKAoy"
   },
   "outputs": [],
   "source": [
    "# printujemy tylko damskie imiona\n",
    "\n",
    "for name, gender in names_dict.items():\n",
    "    if gender == 'Male':\n",
    "        continue\n",
    "    print(name)"
   ]
  },
  {
   "cell_type": "markdown",
   "metadata": {
    "id": "PCF0EOiPKAoy"
   },
   "source": [
    "- **break** - przerywa działanie całej pętli"
   ]
  },
  {
   "cell_type": "code",
   "execution_count": null,
   "metadata": {
    "id": "ncMfd-xrKAoy"
   },
   "outputs": [],
   "source": [
    "# printujemy do momentu pojawienia się pierwszego męskiego imienia\n",
    "\n",
    "for name, gender in names_dict.items():\n",
    "    if gender == 'Male':\n",
    "        break\n",
    "    print(name)"
   ]
  },
  {
   "cell_type": "code",
   "execution_count": null,
   "metadata": {
    "colab": {
     "base_uri": "https://localhost:8080/"
    },
    "id": "V2AJNPRfHDcP",
    "outputId": "7ee7a436-3db7-4948-90e1-e19465e1c8e0"
   },
   "outputs": [],
   "source": [
    "#Break dziala zawsze dla najwyższej pętli\n",
    "for i in range(5):\n",
    "  for name, gender in names_dict.items():\n",
    "      if gender == 'Male':\n",
    "        print(name, i)\n",
    "        break\n"
   ]
  },
  {
   "cell_type": "markdown",
   "metadata": {
    "id": "j04ijhzfKAoy"
   },
   "source": [
    "### pętla _while_\n",
    "Blok kodu wykonywany jest dopóki warunek jest spełniony."
   ]
  },
  {
   "cell_type": "code",
   "execution_count": null,
   "metadata": {
    "colab": {
     "base_uri": "https://localhost:8080/"
    },
    "id": "bGBs2S6eKAoy",
    "outputId": "17763a53-527b-46ca-a38c-12ecfc1f2dee"
   },
   "outputs": [],
   "source": [
    "n = 5\n",
    "while n > 0:\n",
    "    n = n - 1\n",
    "    print(n)"
   ]
  },
  {
   "cell_type": "markdown",
   "metadata": {
    "id": "uXpgUHn3KAoz"
   },
   "source": [
    "- klauzule **_break_** i **_continue_** działają analogicznie"
   ]
  },
  {
   "cell_type": "code",
   "execution_count": null,
   "metadata": {
    "colab": {
     "base_uri": "https://localhost:8080/"
    },
    "id": "GK5n_m7pKAoz",
    "outputId": "805c6629-6807-4997-ffc7-e9a2198b3de9"
   },
   "outputs": [],
   "source": [
    "n = 5\n",
    "while n > 0:\n",
    "    n = n - 1\n",
    "    if n == 2:\n",
    "        break\n",
    "    print(n)"
   ]
  },
  {
   "cell_type": "code",
   "execution_count": null,
   "metadata": {
    "colab": {
     "base_uri": "https://localhost:8080/"
    },
    "id": "FnQ5mXyXKAoz",
    "outputId": "880987a6-6b18-4d74-f93f-75a151a8c80d"
   },
   "outputs": [],
   "source": [
    "n = 5\n",
    "while n > 0:\n",
    "    n = n - 1\n",
    "    if n == 2:\n",
    "        continue\n",
    "    print(n)"
   ]
  },
  {
   "cell_type": "markdown",
   "metadata": {
    "id": "0yACiebVKAoz"
   },
   "source": [
    "- _while_ można użyć także z obiektami złożonymi"
   ]
  },
  {
   "cell_type": "code",
   "execution_count": null,
   "metadata": {
    "colab": {
     "base_uri": "https://localhost:8080/"
    },
    "id": "e_Tw0X-OKAoz",
    "outputId": "3a295508-354d-4f25-b00e-eb72811da8aa"
   },
   "outputs": [],
   "source": [
    "a = ['K', 'l', 'o', 'n']\n",
    "while a:\n",
    "    print(a.pop(-1))"
   ]
  },
  {
   "cell_type": "markdown",
   "metadata": {
    "id": "tz0Zmu1ZKAoz"
   },
   "source": [
    "### Pętle - dobre praktyki"
   ]
  },
  {
   "cell_type": "code",
   "execution_count": null,
   "metadata": {
    "id": "8ayyI2wLKAo0"
   },
   "outputs": [],
   "source": [
    "# BAD\n",
    "my_list = ['a', 'b', 'c']\n",
    "\n",
    "i = 0\n",
    "while i < len(my_list):\n",
    "    print(i, my_list[i])\n",
    "    i += 1"
   ]
  },
  {
   "cell_type": "code",
   "execution_count": null,
   "metadata": {
    "id": "upKSx1Q9KAo0"
   },
   "outputs": [],
   "source": [
    "# GOOD\n",
    "my_list = ['a', 'b', 'c']\n",
    "\n",
    "for i in range(len(my_list)):\n",
    "    print(i, my_list[i])"
   ]
  },
  {
   "cell_type": "code",
   "execution_count": null,
   "metadata": {
    "id": "NuGkH4btKAo0"
   },
   "outputs": [],
   "source": [
    "# BETTER\n",
    "my_list = ['a', 'b', 'c']\n",
    "\n",
    "for i, item in enumerate(my_list):\n",
    "    print(i, item)\n",
    "\n",
    "for item in my_list:\n",
    "    print(item)"
   ]
  },
  {
   "cell_type": "markdown",
   "metadata": {
    "id": "HV-plpODAqIX"
   },
   "source": [
    "## Listy składane"
   ]
  },
  {
   "cell_type": "markdown",
   "metadata": {
    "id": "h4qbdiOuCjUx"
   },
   "source": [
    "Mamy listę łańcuchów znaków, np. imion. Załóżmy, że chcemy mieć drugą listę, w której będziemy mieli długości (liczbę liter) tych imion. Możemy to zrobić \"tradycyjnie\" w ten sposób:"
   ]
  },
  {
   "cell_type": "code",
   "execution_count": null,
   "metadata": {
    "id": "hxj66xqq_kLc"
   },
   "outputs": [],
   "source": [
    "imiona = ['jacek', 'paweł', 'monika', 'andrzej']"
   ]
  },
  {
   "cell_type": "code",
   "execution_count": null,
   "metadata": {
    "id": "mULvYA2P-G3C"
   },
   "outputs": [],
   "source": [
    "dlugosc_imion = []\n",
    "for imie in imiona:\n",
    "  # if imie[-1] !=\"a\":\n",
    "    dlugosc_imion.append(len(imie))\n",
    "print(dlugosc_imion)"
   ]
  },
  {
   "cell_type": "markdown",
   "metadata": {
    "id": "Dlbd6WCkCyja"
   },
   "source": [
    "Możemy to też zrobić za pomocą listy składanej - jest to dużo zwięźlejszy sposób, a jednocześnie często wcale nie traci to na czytelności:"
   ]
  },
  {
   "cell_type": "code",
   "execution_count": null,
   "metadata": {
    "colab": {
     "base_uri": "https://localhost:8080/"
    },
    "id": "p8ASNWgLBMeb",
    "outputId": "7145f8d6-7e8b-4d8b-c512-49911835ae38"
   },
   "outputs": [],
   "source": [
    "dlugosc_imion_sk = [len(imie) for imie in imiona]\n",
    "print(dlugosc_imion_sk)"
   ]
  },
  {
   "cell_type": "markdown",
   "metadata": {
    "id": "EM74lKq1DBMz"
   },
   "source": [
    "Możemy w listach składanych dodawać warunki. Przy założeniu, że każde imię kończące się na literkę a jest imieniem żeńskim, łatwo możemy ograniczyć wspomnianą listę długości imion tylko do długości imion męskich w ten sposób:"
   ]
  },
  {
   "cell_type": "code",
   "execution_count": null,
   "metadata": {
    "colab": {
     "base_uri": "https://localhost:8080/"
    },
    "id": "furej3cFBlkV",
    "outputId": "e427c2f5-bebf-4d37-8af4-58996600f2a6"
   },
   "outputs": [],
   "source": [
    "dlugosc_imion_meskich = [len(imie) for imie in imiona if imie[-1] != 'a']\n",
    "print(dlugosc_imion_meskich)"
   ]
  },
  {
   "cell_type": "markdown",
   "metadata": {
    "id": "9GBuiA6Z-Yz8"
   },
   "source": [
    "W listach składanych możemy konstruować dowolnie złożone obiekty. Poniżej mamy listę krotek - imię + długość"
   ]
  },
  {
   "cell_type": "code",
   "execution_count": null,
   "metadata": {
    "id": "dG1MrWUICP9I"
   },
   "outputs": [],
   "source": [
    "dlugosc_imion_meskich = [(imie, len(imie)) for imie in imiona if imie[-1] != 'a']\n",
    "print(dlugosc_imion_meskich)"
   ]
  },
  {
   "cell_type": "markdown",
   "metadata": {
    "id": "ZDn5VLT2E-0o"
   },
   "source": [
    "Na koniec list składanych taka ciekawostka - za pomocą list składanych możemy łatwo skonstruować słownik. Poniżej mamy słownik imion męskich na ich długość."
   ]
  },
  {
   "cell_type": "code",
   "execution_count": null,
   "metadata": {
    "id": "wcn_7_hhE37Q"
   },
   "outputs": [],
   "source": [
    "dlugosc_imion_meskich_slownik = dict([(imie, len(imie)) for imie in imiona if imie[-1] != 'a'])\n",
    "print(dlugosc_imion_meskich_slownik['jacek'])"
   ]
  },
  {
   "cell_type": "markdown",
   "metadata": {
    "id": "R-RA6KSLx-rA"
   },
   "source": [
    "## Krotka"
   ]
  },
  {
   "cell_type": "markdown",
   "metadata": {
    "id": "W7l5ef0ZyBAI"
   },
   "source": [
    "Krotka (ang. *tuple*) jest podobna do listy, tylko jak raz się ją utworzy, to nie można jej już nigdy zmieniać. Inaczej mówiąc, jest **niemutowalna**."
   ]
  },
  {
   "cell_type": "code",
   "execution_count": null,
   "metadata": {
    "id": "k4DNqyBMw2vk"
   },
   "outputs": [],
   "source": [
    "lista_1 = [1,2,3,4]\n",
    "krotka_1 = (1,2,3,4)"
   ]
  },
  {
   "cell_type": "markdown",
   "metadata": {
    "id": "NwmAItCEzD_o"
   },
   "source": [
    "Funkcja dir zwraca listę wszystkich funkcji, które można wykonać na danym obiekcie. Zobacz, czym różnią sie lista i krotka."
   ]
  },
  {
   "cell_type": "code",
   "execution_count": null,
   "metadata": {
    "colab": {
     "base_uri": "https://localhost:8080/"
    },
    "id": "AH0dXRXuzMAm",
    "outputId": "e5898872-988a-444c-8d3f-0701b187ef1e"
   },
   "outputs": [],
   "source": [
    "print(dir(lista_1))\n",
    "print(dir(krotka_1))"
   ]
  },
  {
   "cell_type": "code",
   "execution_count": null,
   "metadata": {
    "colab": {
     "base_uri": "https://localhost:8080/"
    },
    "id": "JQU7xxYkzng3",
    "outputId": "be1703e5-4d26-4904-d9e3-24679f6ac3e7"
   },
   "outputs": [],
   "source": [
    "# żeby było łatwiej usuńmy te funkcje z podkreślnikami - są to funkcje spejcalne, nie potrzebujemy ich na razie.\n",
    "# usuwam za pomocą listy składanej - wyjaśnienie jak to działa będzie później\n",
    "print('Funkcje dostępne w liście:', [i for i in dir(lista_1) if i[0] != '_'])\n",
    "print('Funkcje dostępne w krotce:', [i for i in dir(krotka_1) if i[0] != '_'])"
   ]
  },
  {
   "cell_type": "markdown",
   "metadata": {
    "id": "odLIrv5cOySX"
   },
   "source": [
    "Widzimy więc, że krotka ma tylko metody *count* oraz *index*. Nie można dodawać, usuwać, sortować, zmieniać kolejności i w ogóle. Dzięki temu krotki są nieco lżejszymi obiektami."
   ]
  },
  {
   "cell_type": "code",
   "execution_count": null,
   "metadata": {
    "colab": {
     "base_uri": "https://localhost:8080/"
    },
    "id": "YHbWvHLvPA8b",
    "outputId": "03830480-8674-4398-ec1e-b40270c0344b"
   },
   "outputs": [],
   "source": [
    "import sys\n",
    "print('Wyniki poniżej w bajtach.')\n",
    "print('Rozmiar listy w pamięci:', sys.getsizeof(lista_1))\n",
    "print('Rozmiar krotki w pamięci:', sys.getsizeof(krotka_1))"
   ]
  },
  {
   "cell_type": "markdown",
   "metadata": {
    "id": "mODRRnrjPZI1"
   },
   "source": [
    "Jakby co, krotkę zawsze można łatwo rzutować na listę i odwrotnie - listę na krotkę. Jeśli więc musimy posortować krotkę, możmy to zrobić z krokiem pośrednim, konwertując na listę i z powrotem."
   ]
  },
  {
   "cell_type": "code",
   "execution_count": null,
   "metadata": {
    "colab": {
     "base_uri": "https://localhost:8080/"
    },
    "id": "s6C9csfaPUbt",
    "outputId": "8f7e7421-e6e7-4c2e-c8c1-00e4c828af67"
   },
   "outputs": [],
   "source": [
    "krotka_2 = (4,6,3,4,7,9,4,2,4,8,9,888,354,-12)\n",
    "print('Krotka oryginalna:', krotka_2)\n",
    "lista_2 = list(krotka_2)\n",
    "lista_2 = sorted(lista_2)\n",
    "krotka_2 = tuple(lista_2)\n",
    "print('Krotka posortowana:', krotka_2)"
   ]
  },
  {
   "cell_type": "markdown",
   "metadata": {
    "id": "D7k40-tzQP5M"
   },
   "source": [
    "## Zbiór (Set)\n",
    "Zbiór to nieuporządkowana kolekcja bez powtórzeń."
   ]
  },
  {
   "cell_type": "code",
   "execution_count": null,
   "metadata": {
    "colab": {
     "base_uri": "https://localhost:8080/"
    },
    "id": "5wUOF7OTRfJv",
    "outputId": "7a584a1e-c4e1-497c-ef09-5d6b5be1a48c"
   },
   "outputs": [],
   "source": [
    "zbior_1 = set()\n",
    "zbior_1.add(1)\n",
    "# zwróć uwagę, że czkawka będzie tylko raz!\n",
    "zbior_1.add('czkawka')\n",
    "zbior_1.add('czkawka')\n",
    "zbior_1.add('czkawka')\n",
    "zbior_1.add('czkawka')\n",
    "zbior_1.add('ogon')\n",
    "print(zbior_1)"
   ]
  },
  {
   "cell_type": "markdown",
   "metadata": {
    "id": "mBvryEl6RtPn"
   },
   "source": [
    "Zbiór jest **nieuporządkowany** - zobacz, że poniżej wyskakuje błąd gdy próbuję odczytać z niego pierwszy element."
   ]
  },
  {
   "cell_type": "code",
   "execution_count": null,
   "metadata": {
    "colab": {
     "base_uri": "https://localhost:8080/",
     "height": 166
    },
    "id": "Az35dCb3R1A8",
    "outputId": "7718d77c-33bc-4698-f09b-c6aa930817bf"
   },
   "outputs": [],
   "source": [
    "print(zbior_1[0])"
   ]
  },
  {
   "cell_type": "markdown",
   "metadata": {
    "id": "22gZcQXcR7YT"
   },
   "source": [
    "Zbiory są fajne m. in. dlatego, że:\n",
    "\n",
    "\n",
    "1.   Szybko można sprawdzać, czy są w nich jakieś elementy\n",
    "2.   Można wykonywać na nich operacje jak na zbiorach matematycznych\n",
    "\n",
    "Najpierw zobaczmy pierwszy punkt, czyli sprawdzanie przynależności."
   ]
  },
  {
   "cell_type": "code",
   "execution_count": null,
   "metadata": {
    "colab": {
     "base_uri": "https://localhost:8080/"
    },
    "id": "k0LTo2s1R4dL",
    "outputId": "d5e974d3-b840-4e39-dab1-fb6042adcb17"
   },
   "outputs": [],
   "source": [
    "# tworzę listę 10 ** 3 (10 do potęgi 3) losowych liczb od 0 do 10 ** 4\n",
    "import random\n",
    "losowe_liczby = set()\n",
    "for i in range(10 ** 3):\n",
    "  losowe_liczby.add(random.randint(0, 10 ** 4))\n",
    "# sprawdźmy 10 000 razy czy w zbiorze znajduje się liczba 5436 i zmierzmy, ile to potrwa\n",
    "import time\n",
    "start_timestamp = time.time()\n",
    "for i in range(10 ** 4):\n",
    "  5436 in losowe_liczby\n",
    "end_timestamp = time.time()\n",
    "took_set = end_timestamp - start_timestamp\n",
    "print('trwało w zbiorze:', took_set)\n",
    "\n",
    "# a teraz to samo z listą\n",
    "losowe_liczby_lista = list(losowe_liczby)\n",
    "start_timestamp = time.time()\n",
    "for i in range(10 ** 4):\n",
    "  5436 in losowe_liczby_lista\n",
    "end_timestamp = time.time()\n",
    "took_list = end_timestamp - start_timestamp\n",
    "print('trwało w liście:', took_list)\n",
    "print('zbiór jest szybszy', took_list / took_set, 'razy!')"
   ]
  },
  {
   "cell_type": "markdown",
   "metadata": {
    "id": "ESzLurv_bJQy"
   },
   "source": [
    "Ta wartość ile razy zbiór jest szybszy może się wahać dość mocno, ale zawsze zbiór będzie tutaj co najmniej kilkadziesiąt razy szybszy."
   ]
  },
  {
   "cell_type": "markdown",
   "metadata": {
    "id": "cgGKa2LPUh9v"
   },
   "source": [
    "A teraz zobaczmy o co chodzi z tymi operacjami na zbiorach. Porównaj kod poniżej do tego rysunku:"
   ]
  },
  {
   "cell_type": "markdown",
   "metadata": {
    "id": "AG7J0DY6YBUj"
   },
   "source": [
    "![alt text](https://www.math-only-math.com/images/xexamples-of-intersection-of-sets.png.pagespeed.ic.ZdD3wcbE68.png)"
   ]
  },
  {
   "cell_type": "code",
   "execution_count": null,
   "metadata": {
    "colab": {
     "base_uri": "https://localhost:8080/"
    },
    "id": "92JFvHfrU3YR",
    "outputId": "b62dea93-ed39-434c-b1e3-7a8b7cc978d1"
   },
   "outputs": [],
   "source": [
    "z1 = set([1,3,4,5,2])\n",
    "z2 = set([1,9,3,12])\n",
    "print(z1 & z2)"
   ]
  },
  {
   "cell_type": "code",
   "execution_count": null,
   "metadata": {
    "colab": {
     "base_uri": "https://localhost:8080/"
    },
    "id": "BHOtcGq3VTb-",
    "outputId": "f656b186-2fb0-4e28-fe7f-f186561a5763"
   },
   "outputs": [],
   "source": [
    "# Analogicznie działają np. suma zbiorów czy różnica zbiorów\n",
    "print(z1 | z2) # suma\n",
    "print(z1 - z2) # różnica\n",
    "print(z2 - z1) # różnica w drugą stronę"
   ]
  },
  {
   "cell_type": "markdown",
   "metadata": {
    "id": "2jvumTZUWKNt"
   },
   "source": [
    "Do zbiorów możemy wrzucać tylko obiekty **niemutowalne**. Czyli - krotka tak, lista nie."
   ]
  },
  {
   "cell_type": "code",
   "execution_count": null,
   "metadata": {
    "colab": {
     "base_uri": "https://localhost:8080/"
    },
    "id": "yE2vkNnlV5x9",
    "outputId": "1aab4bec-e13a-49a1-8d15-530d05a7a952"
   },
   "outputs": [],
   "source": [
    "z3 = set()\n",
    "z3.add(17)\n",
    "z3.add('ojej')\n",
    "z3.add((1,2,3))\n",
    "print(z3)"
   ]
  },
  {
   "cell_type": "code",
   "execution_count": null,
   "metadata": {
    "colab": {
     "base_uri": "https://localhost:8080/"
    },
    "id": "_dsmDsXQV-EZ",
    "outputId": "8881ad75-0787-46fb-b5f2-26122d020852"
   },
   "outputs": [],
   "source": [
    "# to się wywali - nie mogę dodać listy do zbioru.\n",
    "z3.add([4,5,6])\n",
    "print(z3)"
   ]
  },
  {
   "cell_type": "markdown",
   "metadata": {
    "id": "MfdBTnnWVpnj"
   },
   "source": [
    "## Słownik\n",
    "\n",
    "Kolekcja par klucz: wartość. Po angielsku *dictionary*. Analogicznie do javowej Mapy.\n",
    "Kluczem mogą być obiekty **niemutowalne**, wartością cokolwiek."
   ]
  },
  {
   "cell_type": "code",
   "execution_count": null,
   "metadata": {
    "colab": {
     "base_uri": "https://localhost:8080/"
    },
    "id": "z8EU6wUUWZxQ",
    "outputId": "4e0dec7b-5efd-4680-c1b8-4ac9889bf5bb"
   },
   "outputs": [],
   "source": [
    "d1 = dict()\n",
    "d1['imię'] = 'jacek'\n",
    "d1['oceny'] = [2,2,3,2,3,4]\n",
    "# d1[(1,6)] = [2,3,35,32323]\n",
    "print(d1)\n",
    "print(d1['imię'])"
   ]
  },
  {
   "cell_type": "code",
   "execution_count": null,
   "metadata": {
    "colab": {
     "base_uri": "https://localhost:8080/"
    },
    "id": "ddzFjdViYJ1n",
    "outputId": "23a1c2cd-134a-4e14-8997-a5a6baf434bd"
   },
   "outputs": [],
   "source": [
    "# dodajmy nową ocenę\n",
    "d1['oceny'].append(5)\n",
    "d1['imię'] = \"Miłosz\"\n",
    "print(d1)"
   ]
  },
  {
   "cell_type": "markdown",
   "metadata": {
    "id": "wbYZ87QUYScm"
   },
   "source": [
    "W przykładzie powyżej zauważ, że d1['oceny'] zwraca listę i to na niej wywołuję metodę append!"
   ]
  },
  {
   "cell_type": "markdown",
   "metadata": {
    "id": "OMHFj-yaWkqF"
   },
   "source": [
    "Możemy iterować po słowniku na kilka sposobów:"
   ]
  },
  {
   "cell_type": "code",
   "execution_count": null,
   "metadata": {
    "colab": {
     "base_uri": "https://localhost:8080/"
    },
    "id": "p0sgQVC_WrPI",
    "outputId": "7943b3f6-34bf-41af-f2c2-53a85174513d"
   },
   "outputs": [],
   "source": [
    "# po samych kluczach:\n",
    "for klucz in d1:\n",
    "  print(klucz, d1[klucz])"
   ]
  },
  {
   "cell_type": "code",
   "execution_count": null,
   "metadata": {
    "colab": {
     "base_uri": "https://localhost:8080/"
    },
    "id": "9Ht3BdIPWx3j",
    "outputId": "e6eeb4f4-9414-4748-e047-32536db276e4"
   },
   "outputs": [],
   "source": [
    "# po kluczach i wartościach jednocześnie:\n",
    "for klucz, wartosc in d1.items():\n",
    "  print(klucz, wartosc)"
   ]
  },
  {
   "cell_type": "code",
   "execution_count": null,
   "metadata": {
    "colab": {
     "base_uri": "https://localhost:8080/"
    },
    "id": "lLhVWXEWBcfT",
    "outputId": "db2358a5-171f-4585-be1f-25e7b9187630"
   },
   "outputs": [],
   "source": [
    "d1.values()"
   ]
  },
  {
   "cell_type": "markdown",
   "metadata": {
    "id": "fiD3PsmjW6Ih"
   },
   "source": [
    "Przyjrzyjmy się tej metodzie items na słowniku:"
   ]
  },
  {
   "cell_type": "code",
   "execution_count": null,
   "metadata": {
    "colab": {
     "base_uri": "https://localhost:8080/"
    },
    "id": "g8-Zb78MW85V",
    "outputId": "b475049b-22a0-4ed3-fe9d-5fe5b60670fb"
   },
   "outputs": [],
   "source": [
    "d1.items()"
   ]
  },
  {
   "cell_type": "markdown",
   "metadata": {
    "id": "KIr-_k-OXAMz"
   },
   "source": [
    "Zwraca nam ona tzw. widok na słownik. Ten widok możemy łatwo rzutować po prostu na listę krotek (klucz, wartość)."
   ]
  },
  {
   "cell_type": "code",
   "execution_count": null,
   "metadata": {
    "colab": {
     "base_uri": "https://localhost:8080/"
    },
    "id": "TrvlRTKmXGXz",
    "outputId": "a2baf2ef-c5dc-4f31-e16b-410e6bebd14b"
   },
   "outputs": [],
   "source": [
    "list(d1.items())"
   ]
  },
  {
   "cell_type": "markdown",
   "metadata": {
    "id": "em0m-gFMXLxE"
   },
   "source": [
    "Podobnie, z listy dwuelementowych krotek możemy łatwo zrobić słownik."
   ]
  },
  {
   "cell_type": "code",
   "execution_count": null,
   "metadata": {
    "colab": {
     "base_uri": "https://localhost:8080/"
    },
    "id": "ztSLR3q_XUaH",
    "outputId": "744976c0-53a4-4d49-94ae-1f37ca2f3613"
   },
   "outputs": [],
   "source": [
    "zelek = [('smak', 'truskawka'), ('kolor', 'zielony')]\n",
    "zelek_slownik = dict(zelek)\n",
    "print('Wartośc dla klucza smak to:', zelek_slownik['smak'])"
   ]
  },
  {
   "cell_type": "markdown",
   "metadata": {
    "id": "MOxBfr0j7YOW"
   },
   "source": [
    "#### Po co nam słowniki i sety?"
   ]
  },
  {
   "cell_type": "code",
   "execution_count": null,
   "metadata": {
    "id": "QQz9rnphjPZ6"
   },
   "outputs": [],
   "source": [
    "import random\n",
    "losowa_lista = list(random.sample(range(0, 5_000_000), 5_000_000))\n",
    "losowy_set = set(losowa_lista)"
   ]
  },
  {
   "cell_type": "code",
   "execution_count": null,
   "metadata": {
    "colab": {
     "base_uri": "https://localhost:8080/"
    },
    "id": "rZ2n4W_NjnK3",
    "outputId": "4619c534-374f-4049-d180-ad86c41321c8"
   },
   "outputs": [],
   "source": [
    "%%time\n",
    "15 in losowa_lista"
   ]
  },
  {
   "cell_type": "code",
   "execution_count": null,
   "metadata": {
    "colab": {
     "base_uri": "https://localhost:8080/"
    },
    "id": "mwO_NJcgjwnF",
    "outputId": "650aa81e-6da9-476c-a5d3-b71107659f8f"
   },
   "outputs": [],
   "source": [
    "%%time\n",
    "15 in losowy_set"
   ]
  },
  {
   "cell_type": "code",
   "execution_count": null,
   "metadata": {
    "id": "gN4a6I-P7aZX"
   },
   "outputs": [],
   "source": [
    "rangeop = range (10_000_000)\n",
    "lista = [ (i**2/2,i) for i in rangeop ]\n",
    "slownik = {i**2/2:i for i in rangeop }\n",
    "secik = set([i**2/2 for i in rangeop])"
   ]
  },
  {
   "cell_type": "code",
   "execution_count": null,
   "metadata": {
    "id": "_wLdbWzK721s"
   },
   "outputs": [],
   "source": [
    "%%time\n",
    "for element in lista:\n",
    "  if element[0] == 500_000_000_000:\n",
    "    print (element)\n",
    "    break"
   ]
  },
  {
   "cell_type": "code",
   "execution_count": null,
   "metadata": {
    "id": "BuoCkkwR-FuU"
   },
   "outputs": [],
   "source": [
    "%%time\n",
    "500_000_000_000 in slownik.keys()"
   ]
  },
  {
   "cell_type": "code",
   "execution_count": null,
   "metadata": {
    "id": "B53D_FOf-hLi"
   },
   "outputs": [],
   "source": [
    "%%time\n",
    "500_000_000_000 in secik"
   ]
  },
  {
   "cell_type": "code",
   "execution_count": null,
   "metadata": {
    "id": "QizLZImy9Kbt"
   },
   "outputs": [],
   "source": [
    "%%time\n",
    "slownik[500_000_000_000]"
   ]
  },
  {
   "cell_type": "markdown",
   "metadata": {
    "id": "HwxzHCKkeCw4"
   },
   "source": [
    "## Sortowanie\n"
   ]
  },
  {
   "cell_type": "code",
   "execution_count": null,
   "metadata": {
    "colab": {
     "base_uri": "https://localhost:8080/"
    },
    "id": "HGjTbA9reI6L",
    "outputId": "3a3ff159-9763-48a2-ed24-7f0a5b8167e8"
   },
   "outputs": [],
   "source": [
    "balagan = [2,5,3,1,6,3,-11,4,6,3,2]\n",
    "porzadek = sorted(balagan, reverse=True)\n",
    "print(porzadek)"
   ]
  },
  {
   "cell_type": "markdown",
   "metadata": {
    "id": "I8kSKj09eakq"
   },
   "source": [
    "Trochę więcej zachodu jest z sortowaniem bardziej złożonych obiektów. Załóżmy że mamy listę krotek trzyelementowych. Znaczenie elementów to:\n",
    "0 - imię\n",
    "1 - wiek\n",
    "2 - wzrost"
   ]
  },
  {
   "cell_type": "code",
   "execution_count": null,
   "metadata": {
    "colab": {
     "base_uri": "https://localhost:8080/"
    },
    "id": "w9UTGyWUesUd",
    "outputId": "da600cc2-3c52-42b8-c0f0-fbe8ce06902c"
   },
   "outputs": [],
   "source": [
    "do_sortowania = []\n",
    "do_sortowania.append(('adam', 11, 158))\n",
    "do_sortowania.append(('paweł', 15, 158))\n",
    "do_sortowania.append(('ambroży', 12, 158))\n",
    "do_sortowania.append(('tatiana', 12, 155))\n",
    "do_sortowania.append(('renata', 14, 158))\n",
    "do_sortowania.append(('alojzy', 12, 160))\n",
    "print(do_sortowania)\n"
   ]
  },
  {
   "cell_type": "markdown",
   "metadata": {
    "id": "s1FpEmbLfDyX"
   },
   "source": [
    "Chcę posortować po wieku, czyli po elemencie o indeksie 1. Robię to tak:"
   ]
  },
  {
   "cell_type": "code",
   "execution_count": null,
   "metadata": {
    "id": "oIGw3L5hfJNU"
   },
   "outputs": [],
   "source": [
    "sorted(do_sortowania, key = lambda x: x[1])"
   ]
  },
  {
   "cell_type": "markdown",
   "metadata": {
    "id": "urZhV9u7fUqS"
   },
   "source": [
    "W ramach osób o tym samym wieku chcę dodatkowo sortować po wzroście."
   ]
  },
  {
   "cell_type": "code",
   "execution_count": null,
   "metadata": {
    "id": "zDGNWguZfYQ7"
   },
   "outputs": [],
   "source": [
    "sorted(do_sortowania, key = lambda x: (x[1], x[2]))"
   ]
  },
  {
   "cell_type": "markdown",
   "metadata": {
    "id": "GLA-ALSO7Oon"
   },
   "source": [
    "Tzw. wyrażenia lambda wytłumaczone zostaną przy okazji przerabiania funkcji."
   ]
  },
  {
   "cell_type": "markdown",
   "metadata": {
    "id": "lC1CGOMzb1AC"
   },
   "source": [
    "## Ciekawostki"
   ]
  },
  {
   "cell_type": "markdown",
   "metadata": {
    "id": "JC9Fi1nXcWCQ"
   },
   "source": [
    "### Iterowanie po liście krotek\n",
    "\n",
    "Możemy na bieżąco \"rozbierać\" krotki w liście, po której iterujemy. Porównaj dwa sposoby poniżej."
   ]
  },
  {
   "cell_type": "code",
   "execution_count": null,
   "metadata": {
    "colab": {
     "base_uri": "https://localhost:8080/"
    },
    "id": "MGs440vOccnE",
    "outputId": "364e18fe-1917-4257-c43e-189095221d9f"
   },
   "outputs": [],
   "source": [
    "lk = [(12.8, 'kg'), (170, 'cm'), (55, 'hz')]\n",
    "# sposób pierwszy\n",
    "for el in lk:\n",
    "  print('ilość',el[0], 'jednostka', el[1])"
   ]
  },
  {
   "cell_type": "code",
   "execution_count": null,
   "metadata": {
    "colab": {
     "base_uri": "https://localhost:8080/"
    },
    "id": "QWgqUanoc2kq",
    "outputId": "6ca06922-58cc-4207-d746-0bbed7c8c1f5"
   },
   "outputs": [],
   "source": [
    "# sposób drugi - od razu rozbieramy krotkę\n",
    "for ilosc, jednostka in lk:\n",
    "  print('ilość', ilosc, 'jednostka', jednostka)"
   ]
  },
  {
   "cell_type": "markdown",
   "metadata": {
    "id": "hk3X3ECQdONw"
   },
   "source": [
    "Wynika to z tego, że w ogóle elementy krotki możemy przypisywać do osobnych zmiennych."
   ]
  },
  {
   "cell_type": "code",
   "execution_count": null,
   "metadata": {
    "colab": {
     "base_uri": "https://localhost:8080/"
    },
    "id": "ipX3FMV3dVLS",
    "outputId": "ea700b08-5e05-43df-a788-db235286d229"
   },
   "outputs": [],
   "source": [
    "imie, nazwisko, wiek = ('Anna', 'Arnierokutołowińska', 14)\n",
    "print(imie)\n",
    "print(wiek)"
   ]
  },
  {
   "cell_type": "markdown",
   "metadata": {
    "id": "830lckIpdj7w"
   },
   "source": [
    "Tak samo zresztą jest z listą."
   ]
  },
  {
   "cell_type": "code",
   "execution_count": null,
   "metadata": {
    "id": "7uSInNHedgwt"
   },
   "outputs": [],
   "source": [
    "imie, nazwisko, wiek = ['Michalina', 'Arnierokutołowińska', 22]\n",
    "print(imie)\n",
    "print(wiek)"
   ]
  },
  {
   "cell_type": "markdown",
   "metadata": {
    "id": "F8AI1MIBC_I9"
   },
   "source": [
    "### [Dla Zaawansowanych] ziping"
   ]
  },
  {
   "cell_type": "code",
   "execution_count": null,
   "metadata": {
    "colab": {
     "base_uri": "https://localhost:8080/"
    },
    "id": "RP2KdbJiC-q8",
    "outputId": "fcdd77ba-9768-42da-a17b-6a4d78b2f5c9"
   },
   "outputs": [],
   "source": [
    "imiona = [\"Jacek\", \"Małgorzata\", \"Piotr\", \"Agata\"]\n",
    "nazwiska = [\"Małyszko\", \"Kossakowska\", \"Kałużny\", \"Filipowska\"]\n",
    "\n",
    "for imie,nazwisko in zip(imiona,nazwiska):\n",
    "  print (imie+\" \"+nazwisko)"
   ]
  },
  {
   "cell_type": "markdown",
   "metadata": {
    "id": "CEPGO_y1DVWF"
   },
   "source": [
    "### [Dla zaawansowanych] Tekst"
   ]
  },
  {
   "cell_type": "code",
   "execution_count": null,
   "metadata": {
    "colab": {
     "base_uri": "https://localhost:8080/",
     "height": 35
    },
    "id": "AoeNNAuZDcmq",
    "outputId": "e44490ca-e9f0-47b5-b0b3-f392d220e198"
   },
   "outputs": [],
   "source": [
    "imie+\" \"+nazwisko"
   ]
  },
  {
   "cell_type": "code",
   "execution_count": null,
   "metadata": {
    "id": "Nsf8B-uyD4q-"
   },
   "outputs": [],
   "source": [
    "#Python 3 i 2.7+\n",
    "\"{0} {1}\".format(imie, nazwisko) # {0} {1} {0} {1}-{0} {2}.format(imie, nazwisko, cos)\n",
    "\"{} {}\".format(imie, nazwisko)"
   ]
  },
  {
   "cell_type": "code",
   "execution_count": null,
   "metadata": {
    "id": "Dfdjp1FpDfTF"
   },
   "outputs": [],
   "source": [
    "\"{im} {naz}\".format(im=imie,naz=nazwisko)"
   ]
  },
  {
   "cell_type": "code",
   "execution_count": null,
   "metadata": {
    "id": "4MQa_ybfDqCY"
   },
   "outputs": [],
   "source": [
    "f\"{imie} {nazwisko}\" #- f-strings, głównie w Pythonie 3.6+"
   ]
  },
  {
   "cell_type": "code",
   "execution_count": null,
   "metadata": {
    "colab": {
     "base_uri": "https://localhost:8080/",
     "height": 53
    },
    "id": "mToECRZHE-CT",
    "outputId": "2f4c504b-aa36-43f0-cd3c-1a4dced62d80"
   },
   "outputs": [],
   "source": [
    "fajne_str = \"FAJNeE!!!!!\"\n",
    "f\"Aby stworzyć listę od {2} do {4} należy zrobić range(2,5) co daje: {[i for i in range (2,5)]} a jej suma to {sum(range(2,5))}. F-string są {fajne_str}\""
   ]
  },
  {
   "cell_type": "markdown",
   "metadata": {
    "id": "OaMwto1TEjAc"
   },
   "source": [
    "Jeżeli stosujecie sposób poniżej:\n",
    "\n",
    "![image.png](data:image/png;base64,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)"
   ]
  },
  {
   "cell_type": "code",
   "execution_count": null,
   "metadata": {
    "id": "8kvJj7-jEUz4"
   },
   "outputs": [],
   "source": [
    "\"%s %s\" % (imie , nazwisko)"
   ]
  },
  {
   "cell_type": "markdown",
   "metadata": {
    "id": "zHNKlS0q5-lF"
   },
   "source": [
    "### [Dla Zaawansowanych] Generatory"
   ]
  },
  {
   "cell_type": "code",
   "execution_count": null,
   "metadata": {
    "colab": {
     "base_uri": "https://localhost:8080/"
    },
    "id": "p6U1cC_IFXh-",
    "outputId": "7373e398-9dfa-497a-d755-3193628f1acc"
   },
   "outputs": [],
   "source": [
    "type(range(5))"
   ]
  },
  {
   "cell_type": "code",
   "execution_count": null,
   "metadata": {
    "id": "SxpqhV5S6Jmb"
   },
   "outputs": [],
   "source": [
    "# Initialize the list\n",
    "my_list = [1, 3, 6, 10]\n",
    "\n",
    "# square each term using list comprehension\n",
    "list_ = [x**2 for x in my_list]\n",
    "\n",
    "# same thing can be done using a generator expression\n",
    "# generator expressions are surrounded by parenthesis ()\n",
    "generator = (x**2 for x in my_list)\n",
    "\n",
    "print(list_)\n",
    "print(generator)"
   ]
  },
  {
   "cell_type": "code",
   "execution_count": null,
   "metadata": {
    "id": "gk5gTIPD6QIs"
   },
   "outputs": [],
   "source": [
    "next(generator)"
   ]
  },
  {
   "cell_type": "markdown",
   "metadata": {
    "id": "SQIrMAyU585y"
   },
   "source": [
    "### [Dla Zaawansowanych] Unpacking"
   ]
  },
  {
   "cell_type": "code",
   "execution_count": null,
   "metadata": {
    "colab": {
     "base_uri": "https://localhost:8080/"
    },
    "id": "YpMXeoqR3vAo",
    "outputId": "f46b4fb7-7002-4444-d6d6-fbb88fd2dcce"
   },
   "outputs": [],
   "source": [
    "#Ciekawe operatory - python 3, rozpakowywanie\n",
    "mojalista = [i for i in range(5)]\n",
    "mojalista2 = [i for i  in range(6)]\n",
    "mojalista3 = list(range(1,4))\n",
    "mojalista4 = list('9876')\n",
    "\n",
    "# print(mojalista)\n",
    "print([*mojalista, *mojalista2]) # unpack"
   ]
  },
  {
   "cell_type": "code",
   "execution_count": null,
   "metadata": {
    "id": "xjjdhu8vFwg8"
   },
   "outputs": [],
   "source": [
    "colors = ['red', 'blue', 'green', 'yellow']\n",
    "red, blue, *other = colors\n",
    "print (other)\n",
    "\n",
    "#Dzieki temu mozemy tez laczyc rozne elementy - ktore sa \"iterablami\"\n",
    "duzalista = mojalista + mojalista2 + mojalista3 + mojalista4\n",
    "print (duzalista)\n",
    "#albo\n",
    "duzalista = [*mojalista, *mojalista2, *mojalista3, *mojalista4]\n",
    "print(duzalista)"
   ]
  },
  {
   "cell_type": "code",
   "execution_count": null,
   "metadata": {
    "id": "BMYWbkhD4PEt"
   },
   "outputs": [],
   "source": [
    "# wąskie zastosowanie\n",
    "dict1 = {'first':1, 'second':2}\n",
    "dict2 = {'third':3, 'fourth':4}\n",
    "dict3 = {**dict1, **dict2}\n",
    "print (dict3)"
   ]
  }
 ],
 "metadata": {
  "colab": {
   "collapsed_sections": [
    "WepnJJZMLLaX",
    "dd78qfcpLLaY",
    "ctiPYzVxLLac",
    "KJ2DblgULLad",
    "0XaEMyunJ_qZ"
   ],
   "provenance": []
  },
  "kernelspec": {
   "display_name": "Python 3 (ipykernel)",
   "language": "python",
   "name": "python3"
  },
  "language_info": {
   "codemirror_mode": {
    "name": "ipython",
    "version": 3
   },
   "file_extension": ".py",
   "mimetype": "text/x-python",
   "name": "python",
   "nbconvert_exporter": "python",
   "pygments_lexer": "ipython3",
   "version": "3.11.0"
  }
 },
 "nbformat": 4,
 "nbformat_minor": 4
}
