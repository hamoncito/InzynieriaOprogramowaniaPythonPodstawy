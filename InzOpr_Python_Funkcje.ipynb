{
 "cells": [
  {
   "cell_type": "markdown",
   "metadata": {
    "id": "GI1iJa9UBgvW"
   },
   "source": [
    "# Funkcje w pythonie"
   ]
  },
  {
   "cell_type": "markdown",
   "metadata": {
    "id": "2L-G9RWjiajY"
   },
   "source": [
    "Funkcje definiujemy w bardzo prosty sposób. Nie musimy podawać ani typów argumentów ani typu zwracanych wartości (nawet tego, czy cokolwiek jest zwracane)."
   ]
  },
  {
   "cell_type": "code",
   "execution_count": null,
   "metadata": {
    "colab": {
     "base_uri": "https://localhost:8080/"
    },
    "id": "15KTHkI3D1Ao",
    "outputId": "f607d157-8140-4ec4-ab5b-5d6850252256"
   },
   "outputs": [],
   "source": [
    "def policz_pole_kwadratu(a):\n",
    "  return a ** 2\n",
    "\n",
    "def usmiechnij_sie():\n",
    "  print(':)')\n",
    "\n",
    "pole = policz_pole_kwadratu(10)\n",
    "print(pole)\n",
    "usmiechnij_sie()"
   ]
  },
  {
   "cell_type": "markdown",
   "metadata": {
    "id": "wqgP5XhIiwsY"
   },
   "source": [
    "Argumenty funkcji mogą mieć domyślną wartość. Wtedy nie trzeba podawać wartości dla danego argumentu - jeśli nie podamy, użyta zostanie wartość domyślna."
   ]
  },
  {
   "cell_type": "code",
   "execution_count": null,
   "metadata": {
    "colab": {
     "base_uri": "https://localhost:8080/"
    },
    "id": "fjULiDE8EN87",
    "outputId": "960c28e2-c95d-446e-e646-2590c8764e67"
   },
   "outputs": [],
   "source": [
    "def powitanie(imie, nazwisko, miasto=\"Poznań\"):\n",
    "  return \"Cześć\" + \" \" + imie + \" \" + nazwisko + \" z miasta \" + miasto\n",
    "\n",
    "print(powitanie(\"Jacek\", \"Małyszko\"))\n",
    "print(powitanie(\"Jacek\", \"Małyszko\", \"Pleszew\"))"
   ]
  },
  {
   "cell_type": "markdown",
   "metadata": {
    "id": "CHJt8NZ-jETt"
   },
   "source": [
    "Python pozwala na podawanie argumentów do funkcji na dwa sposoby:\n",
    "\n",
    "\n",
    "*   Bez podawania nazwy argumentu - która wartość trafia do którego argumentu ustalane jest na podstawie kolejności argumentów\n",
    "*   Poprzez podawanie nazwy argumentu z przypisaniem wartości\n",
    "\n"
   ]
  },
  {
   "cell_type": "code",
   "execution_count": null,
   "metadata": {
    "colab": {
     "base_uri": "https://localhost:8080/"
    },
    "id": "wycC9rwQF1A_",
    "outputId": "99991cf6-f758-4261-cc53-c3add650e77e"
   },
   "outputs": [],
   "source": [
    "print(powitanie(imie=\"Jacek\", nazwisko=\"Małyszko\"))\n",
    "print(powitanie(nazwisko=\"Brzęczyszczykiewicz\", imie=\"Grzegorz\"))\n",
    "print(powitanie(miasto=\"Mosina\", nazwisko=\"Brzęczyszczykiewicz\", imie=\"Grzegorz\"))\n",
    "\n",
    "moje_imie=\"Piotr\"\n",
    "moje_nazwisko = \"Kałużny\"\n",
    "moje_miasto = \"Pleszew\"\n",
    "\n",
    "print (powitanie (imie=moje_imie, nazwisko=moje_nazwisko, miasto=moje_miasto))\n"
   ]
  },
  {
   "cell_type": "markdown",
   "metadata": {
    "id": "BcU7y1xCjzTF"
   },
   "source": [
    "Jeśli któraś z podanych wartości będzie podana z nazwą argumentu, wszystkie wartości po niej też muszą być podane z nazwą argumentu. Poniżej dostajemy więc błąd."
   ]
  },
  {
   "cell_type": "code",
   "execution_count": null,
   "metadata": {
    "colab": {
     "base_uri": "https://localhost:8080/",
     "height": 131
    },
    "id": "x-cf5-MikD1v",
    "outputId": "977933a9-e440-4680-d4f1-1b2844a4c039"
   },
   "outputs": [],
   "source": [
    "print(powitanie(imie=\"Jacek\", \"Małyszko\"))"
   ]
  },
  {
   "cell_type": "markdown",
   "metadata": {
    "id": "XJ4cUcflkLcz"
   },
   "source": [
    "Możemy wymusić, aby wartości argumentów były podawane zawsze z ich nazwami poprzez użycie gwiazdki. Można ją wstawić albo na początku (wtedy wszystkie wartości muszą być podane z argumentami) albo gdzieś w środku - wtedy wartości tylko dla argumentów po gwiazdce muszą być podane z nazwami argumentów."
   ]
  },
  {
   "cell_type": "code",
   "execution_count": null,
   "metadata": {
    "colab": {
     "base_uri": "https://localhost:8080/"
    },
    "id": "szCnGgbzkYBH",
    "outputId": "0f5ec139-717e-4e3e-d3ac-6addab53b9e7"
   },
   "outputs": [],
   "source": [
    "def wypisz_wyraz_kilka_razy(*, wyraz, ile_razy):\n",
    "  for i in range(ile_razy):\n",
    "    print(wyraz)\n",
    "\n",
    "wypisz_wyraz_kilka_razy(wyraz=\"czkawka\", ile_razy=3)"
   ]
  },
  {
   "cell_type": "markdown",
   "metadata": {
    "id": "eB1zgQsxmAbd"
   },
   "source": [
    "Poniższe wywołanie zwróci więc błąd:"
   ]
  },
  {
   "cell_type": "code",
   "execution_count": null,
   "metadata": {
    "colab": {
     "base_uri": "https://localhost:8080/",
     "height": 165
    },
    "id": "dY9fXRX6mKiX",
    "outputId": "3ef4b9fe-f4f0-464a-b07e-ea08233c2bea"
   },
   "outputs": [],
   "source": [
    "wypisz_wyraz_kilka_razy(\"czkawka\", 3)"
   ]
  },
  {
   "cell_type": "markdown",
   "metadata": {
    "id": "xNgLytsw_7te"
   },
   "source": [
    "## Dla zaawansowanych: Args/kwargs\n",
    "\n",
    "*args oznacza wszystkie parametry bez nazwy\n",
    "\n",
    "**kwargs oznacza te z nazwą"
   ]
  },
  {
   "cell_type": "code",
   "execution_count": null,
   "metadata": {
    "colab": {
     "base_uri": "https://localhost:8080/"
    },
    "id": "bD19P80PAD2i",
    "outputId": "e1d8b7fe-680c-4580-f532-6612c0a7f4f1"
   },
   "outputs": [],
   "source": [
    "def zsumuj_liste(my_integers):\n",
    "    result = 0\n",
    "    for x in my_integers:\n",
    "        result += x\n",
    "    return result\n",
    "\n",
    "list_of_integers = [1, 2, 3]\n",
    "print(zsumuj_liste(list_of_integers))"
   ]
  },
  {
   "cell_type": "code",
   "execution_count": null,
   "metadata": {
    "id": "7FApZTTHAQje"
   },
   "outputs": [],
   "source": [
    "def zsumuj_liste(*argumenty):\n",
    "    result = 0\n",
    "    for x in argumenty:\n",
    "        result += x\n",
    "    return result"
   ]
  },
  {
   "cell_type": "code",
   "execution_count": null,
   "metadata": {
    "colab": {
     "base_uri": "https://localhost:8080/"
    },
    "id": "MDyydgsyAULP",
    "outputId": "f02dc74c-e52c-4633-832c-1d7799eb7df9"
   },
   "outputs": [],
   "source": [
    "print(zsumuj_liste(1,2,3,59,4848,4949,.56,24,24))"
   ]
  },
  {
   "cell_type": "code",
   "execution_count": null,
   "metadata": {
    "colab": {
     "base_uri": "https://localhost:8080/"
    },
    "id": "R-osqzN2AzAh",
    "outputId": "fdd6f4f8-a5bf-458d-9eb7-0d9f93aa5b65"
   },
   "outputs": [],
   "source": [
    "def funkcja_kwarg(*args, **kwargs):\n",
    "    print(\"Liczba przekazanych parametrów:\",len(kwargs))\n",
    "    print(\"Liczba przekazanych parametrów nienazwanych:\",len(args))\n",
    "    for key, item in kwargs.items():\n",
    "        print (\"Klucz:\", key, \"Wartość:\", item)\n",
    "\n",
    "    lista = [x for x in kwargs.values()]\n",
    "    print (\"\".join(lista))\n",
    "\n",
    "funkcja_kwarg(5,3,2, siala=\"Siała\", baba=\" baba\", mak=\" mak\", nie=\". Nie\", wiedz = \" wiedziała\", jak =\" jak.\")"
   ]
  },
  {
   "cell_type": "markdown",
   "metadata": {
    "id": "61QihHTdrsh4"
   },
   "source": [
    "### Jak radzić sobie z pustymi/opcjonalnymi argumentami?\n",
    "Zwykle wystarczy default value. Przykładowo param2 ma być opcjonalny\n",
    "\n",
    "`def funkcja (param1, param2=None)`\n",
    "\n",
    "Więcej:\n",
    "https://www.youtube.com/watch?v=2iw8VKsS6-Y"
   ]
  },
  {
   "cell_type": "markdown",
   "metadata": {
    "id": "32YLYfI5mqG-"
   },
   "source": [
    "# Funkcje jako obiekty. Funkcja anonimowa - lambda"
   ]
  },
  {
   "cell_type": "markdown",
   "metadata": {
    "id": "HVWKLIhBn-qO"
   },
   "source": [
    "Funkcje w Pythonie są traktowane jako obiekty - możemy przypisywać je do zmiennych! Więcej o tym w kolejnej sekcji."
   ]
  },
  {
   "cell_type": "code",
   "execution_count": null,
   "metadata": {
    "colab": {
     "base_uri": "https://localhost:8080/"
    },
    "id": "qieuLELToGg1",
    "outputId": "a68b4d00-ef07-4f48-8aa1-bfdb788ccaa0"
   },
   "outputs": [],
   "source": [
    "wypisz_n_razy = wypisz_wyraz_kilka_razy # zauważ że przy przypisywaniu nie daję nawiasów po nazwie funkcji!\n",
    "wypisz_n_razy(wyraz=\"czkawka\", ile_razy=2)"
   ]
  },
  {
   "cell_type": "markdown",
   "metadata": {
    "id": "yZD7ldMCn0tA"
   },
   "source": [
    "Funkcje w Pythonie możemy też definiować za pomocą tzw. wyrażenia lambda. To jest troszkę inny sposób definiowania funkcji, pozwala nam on stworzyć funkcję bez przypisywania jej w ogóle do żadnej zmiennej.\n",
    "\n",
    "Ale powoli. Najpierw funkcja zdefiniowana tradycyjnie:"
   ]
  },
  {
   "cell_type": "code",
   "execution_count": null,
   "metadata": {
    "colab": {
     "base_uri": "https://localhost:8080/"
    },
    "id": "IzwYDxkoo06y",
    "outputId": "0596024c-2dcf-42b9-8d05-de2a4d84d626"
   },
   "outputs": [],
   "source": [
    "def czy_pelnoletni_tradycyjnie(wiek):\n",
    "  return wiek >= 18\n",
    "\n",
    "print(czy_pelnoletni_tradycyjnie(23))"
   ]
  },
  {
   "cell_type": "markdown",
   "metadata": {
    "id": "GfZDNRKxpIjF"
   },
   "source": [
    "Teraz zobaczmy, jak identyczną funkcję możemy zdefiniować za pomocą wyrażenia lambda."
   ]
  },
  {
   "cell_type": "code",
   "execution_count": null,
   "metadata": {
    "colab": {
     "base_uri": "https://localhost:8080/"
    },
    "id": "vZ_VKGS4GZM-",
    "outputId": "aef98fbf-21b5-4547-adcc-b304a0b81ae3"
   },
   "outputs": [],
   "source": [
    "czy_pelnoletni_lambda = lambda wiek: wiek >= 18\n",
    "\n",
    "print(czy_pelnoletni_lambda(20))\n",
    "print(czy_pelnoletni_lambda(15))"
   ]
  },
  {
   "cell_type": "markdown",
   "metadata": {
    "id": "uu3p4ggnIJHJ"
   },
   "source": [
    ":"
   ]
  },
  {
   "cell_type": "code",
   "execution_count": null,
   "metadata": {
    "id": "looqXCrFH1ye"
   },
   "outputs": [],
   "source": [
    "lista_produktów = [(\"termos\", 25), (\"lodówka\",3)]\n",
    "\n",
    "lambda_filtr = lambda x: x[0] if x[1] >= 5 else None"
   ]
  },
  {
   "cell_type": "markdown",
   "metadata": {
    "id": "Mbf_1K9mpRin"
   },
   "source": [
    "Funkcje lambda często przydają się, jeśli jedna funkcja przyjmuje jako argument drugą funkcję. Przykładowo, funkcja sorted jako argument key oczekuje na funkcję, która będzie wskazywała jak z obiektów z sortowanej kolejkcji wyciągać elementy używane jako klucz sortowania. Przykładowo, jeśli mam listę krotek i chcę sortować po elemencie o indeksie 1:"
   ]
  },
  {
   "cell_type": "code",
   "execution_count": null,
   "metadata": {
    "colab": {
     "base_uri": "https://localhost:8080/"
    },
    "id": "WypY8WiXG2Q7",
    "outputId": "c9a94dd3-5ac1-4dc8-8d19-aa82920d3fc3"
   },
   "outputs": [],
   "source": [
    "lista_do_posortowania = [(\"c\", 3), (\"a\", 5), (\"b\", 1)]\n",
    "sorted(lista_do_posortowania, key=lambda x:x[1])"
   ]
  },
  {
   "cell_type": "markdown",
   "metadata": {
    "id": "MamOEeBqpsLF"
   },
   "source": [
    "Co prawda mogę to zrobić tradycyjnie, ale będzie to mniej eleganckie"
   ]
  },
  {
   "cell_type": "code",
   "execution_count": null,
   "metadata": {
    "id": "7g1N5vQDHmmq"
   },
   "outputs": [],
   "source": [
    "lista_do_posortowania = [(\"c\", 3), (\"a\", 5), (\"b\", 1)]\n",
    "def el_1(x):\n",
    "  return x[1]\n",
    "sorted(lista_do_posortowania, key=el_1)"
   ]
  },
  {
   "cell_type": "markdown",
   "metadata": {
    "id": "R9DUoqGbp2ST"
   },
   "source": [
    "Używanie funkcji jako argumentu w innej funkcji wychodzi w Pythonie bardzo naturalnie. Poniżej mamy rozwiązanie zadania z prezentacji:\n",
    "\n",
    "![alt text](https://jacema-public-images.s3.eu-central-1.amazonaws.com/inz_opr_funkcja_dzialanie.png)\n",
    "\n",
    "Zauważ, w jaki sposób wykorzystaliśy wyrażenie lambda do przekazania funkcji."
   ]
  },
  {
   "cell_type": "code",
   "execution_count": null,
   "metadata": {
    "colab": {
     "base_uri": "https://localhost:8080/"
    },
    "id": "8s4aX0AgIjFD",
    "outputId": "2d58325f-234a-4efe-fe87-55c0356aad0e"
   },
   "outputs": [],
   "source": [
    "class ListTooShortException(Exception):\n",
    "  pass\n",
    "\n",
    "def policz(lista, dzialanie):\n",
    "  if len(lista) < 2:\n",
    "    raise ListTooShortException(\"Za krótka lista!\")\n",
    "  wynik = lista[0]\n",
    "  for el in lista[1:]:\n",
    "    wynik = dzialanie(el, wynik)\n",
    "  return wynik\n",
    "\n",
    "print(policz([1,2,3,4,5,6], lambda x, y: x + y)) # suma - 21\n",
    "print(policz([1,2,3,4,5,6], lambda x, y: x * y)) # iloczyn - 720"
   ]
  },
  {
   "cell_type": "markdown",
   "metadata": {
    "id": "ThsUSTFItuVC"
   },
   "source": [
    "Jeszcze raz, jeśli ktoś jest ciągle zgubiony o co chodzi w tych funkcjach lambda, to proszę zobaczyć, że lambda to tak naprawdę inny sposób definiowania funkcji bez konieczności przypisywania jej od razu do zmiennej (tak jak powyżej). Ale do zmiennej można ją przypisać również bez problemu, tak jak poniżej."
   ]
  },
  {
   "cell_type": "code",
   "execution_count": null,
   "metadata": {
    "colab": {
     "base_uri": "https://localhost:8080/",
     "height": 287
    },
    "id": "1HBeoEgz1g4y",
    "outputId": "b6ac0d38-7ee0-49ba-a7f6-a81956ac8435"
   },
   "outputs": [],
   "source": [
    "print(policz([1,2,3,4,5,6], lambda x, y: x + y)) # suma - 21"
   ]
  },
  {
   "cell_type": "code",
   "execution_count": null,
   "metadata": {
    "colab": {
     "base_uri": "https://localhost:8080/"
    },
    "id": "7z_7JT_HJ-ho",
    "outputId": "7165d4f6-f0b8-4acc-eb48-a5cfb842bf35"
   },
   "outputs": [],
   "source": [
    "iloczyn = lambda x, y: x * y\n",
    "print(iloczyn(3,4))"
   ]
  },
  {
   "cell_type": "markdown",
   "metadata": {
    "id": "VUXfeP_wzlYg"
   },
   "source": [
    "# Oznaczenia typów argumentów oraz wartości zwracanych przez funkcje"
   ]
  },
  {
   "cell_type": "markdown",
   "metadata": {
    "id": "BmQLMylczlfJ"
   },
   "source": [
    "Możemy opisywać argumenty funkcji oraz to, co funkcja zwraca. Jest to jednak informacja niewiążąca - bardziej w rodzaju komentarza dla przyszłych czytelników kodu oraz dla IDE (np. PyCharm)."
   ]
  },
  {
   "cell_type": "code",
   "execution_count": null,
   "metadata": {
    "colab": {
     "base_uri": "https://localhost:8080/"
    },
    "id": "O516bYcFQX8G",
    "outputId": "6f06c14c-47e5-4a1d-86d2-b0d4fdce0eb6"
   },
   "outputs": [],
   "source": [
    "def powitaj(imie: str, wiek: int) -> str:\n",
    "  return \"cześć {}, mam {} lat!\".format(imie, wiek)\n",
    "\n",
    "print(powitaj(\"paweł\", 31))"
   ]
  },
  {
   "cell_type": "markdown",
   "metadata": {
    "id": "-oj82Wy70P2H"
   },
   "source": [
    "Zauważ jednak, że mogę podać dane o zupełnie innych typach a całość i tak mi zadziała:"
   ]
  },
  {
   "cell_type": "code",
   "execution_count": null,
   "metadata": {
    "colab": {
     "base_uri": "https://localhost:8080/"
    },
    "id": "0ViEvg830I5_",
    "outputId": "e3fa3c0d-7a03-41e0-fe1b-2bcebd4f3859"
   },
   "outputs": [],
   "source": [
    "print(powitaj([1,2,3,4], 'krówka-ciągutka'))"
   ]
  }
 ],
 "metadata": {
  "colab": {
   "provenance": []
  },
  "kernelspec": {
   "display_name": "Python 3 (ipykernel)",
   "language": "python",
   "name": "python3"
  },
  "language_info": {
   "codemirror_mode": {
    "name": "ipython",
    "version": 3
   },
   "file_extension": ".py",
   "mimetype": "text/x-python",
   "name": "python",
   "nbconvert_exporter": "python",
   "pygments_lexer": "ipython3",
   "version": "3.11.0"
  }
 },
 "nbformat": 4,
 "nbformat_minor": 4
}
